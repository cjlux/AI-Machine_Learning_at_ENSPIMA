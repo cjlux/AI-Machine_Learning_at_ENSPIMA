{
 "cells": [
  {
   "cell_type": "markdown",
   "id": "62ec853a-48e5-40fb-98ec-c518d4c26914",
   "metadata": {},
   "source": [
    "<span style=\"font-size:10pt\">AI-ML @ ENSPIMA / v1.2 september 2024 / Jean-Luc CHARLES (Jean-Luc.charles@mailo.com) / CC BY-SA 4.0 /</span>"
   ]
  },
  {
   "cell_type": "markdown",
   "id": "ee522ab7-55e3-4dd3-9f71-a0f549b78e0a",
   "metadata": {
    "tags": []
   },
   "source": [
    "# <img align=\"middle\" src=\"./img/alarmClock.png\" width=\"60\" height=\"60\">  __Wake up your Python__ ! part 2<a name=\"top\"></a>\n",
    "\n",
    "## 1 $-$ Conversion <span style=\"color:green\">list</span> <-> <span style=\"color:green\">numpy.ndarray</span>\n",
    "## 2 $-$ Reading ASCII files $-$ Encoding\n",
    "## 3 $-$ Tree manipulation: the `os` module\n",
    "## 4 $-$ Reading image files\n",
    "## 5 $-$ Drawing curves with `matplolib`\n",
    "## 6 $-$ Programming techniques"
   ]
  },
  {
   "cell_type": "markdown",
   "id": "9f6de39c-e24f-40a9-af3b-d221af93437e",
   "metadata": {},
   "source": [
    "<div class=\"alert alert-block alert-danger\"> <span style=\"color:#000080\">\n",
    "For each example in this notebook, take care to read the explanations given and to execute the Python cells with $\\left(\\mathtt{Shift+Enter}\\right)$, before proceeding to the exercises.\n",
    "</span>\n",
    "</div>"
   ]
  },
  {
   "cell_type": "markdown",
   "id": "8f58e1fa-1dc1-434f-835d-41307fb6a0bc",
   "metadata": {},
   "source": [
    "## __1 $-$ Conversion <span style=\"color:green\">list</span> <-> <span style=\"color:green\">numpy.ndarray</span>__ <a name=\"1\"></a>\n",
    "\n",
    "Objects of type <span style=\"color:green\">list</span> are very suitable for collecting data, \n",
    "but they cannot be used for doing **advanced calculations**.<br>\n",
    "=> You **must** know how to convert <span style=\"color:green\">list</span> objects into \n",
    "<span style=\"color:green\">ndarray</span> (n-dimensional array) of \n",
    "<span style=\"color:green\">numpy</span> and vice versa:<br>\n",
    "\n",
    "```python\n",
    "import numpy as np\n",
    "M = np.array(L)\n",
    "```\n",
    "converts the  <span style=\"color:green\">list</span> `L`  to the <span style=\"color:green\">ndarray</span>`M` \n",
    "(see the [array](https://docs.scipy.org/doc/numpy/reference/generated/numpy.array.html) function of **numpy**).<br>\n",
    "```python\n",
    "L = M.tolist()\n",
    "```\n",
    "converts the <span style=\"color:green\">ndarray</span> `M` to the <span style=\"color:green\">list</span> `L` \n",
    "(see method [numpy.ndarray.tolist](https://docs.scipy.org/doc/numpy/reference/generated/numpy.ndarray.tolist.html))."
   ]
  },
  {
   "cell_type": "markdown",
   "id": "dd64b291-925a-4c89-8e4d-3fc80b7cbfa8",
   "metadata": {},
   "source": [
    "<div class=\"alert alert-block alert-info\">\n",
    "<span style=\"color: #0000BB;font-weight: bold; font-size:large;\">Exercise 1.1 $–$ Conversions list ↔ vector</span>\n",
    "<div><span style=\"color: #0000BB\">\n",
    "    \n",
    "- Define the list comprehension `L1` of the squares of the integers from 1 to 9.<b>\n",
    "\n",
    "- Define and display `v1`, the conversion of `L1` to a <span style=\"color:green\">numpy.ndarray</span>.<br>\n",
    "\n",
    "- Display the type of `v1` and its attributes\n",
    "<span style=\"color:green\">dtype</span>,\n",
    "<span style=\"color:green\">shape</span>,\n",
    "<span style=\"color:green\">ndim</span>,\n",
    "<span style=\"color:green\">size</span>,\n",
    "<span style=\"color:green\">itemsize</span> and\n",
    "<span style=\"color:green\">nbytes</span>.\n",
    "    \n",
    "- Define and display `v2`, the conversion of `L1` to a\n",
    "<span style=\"color:green\">ndarray</span> of integers, obtained by passing the additional argument\n",
    "<span style=\"color:brown\">dtype=</span><span style=\"color:green\">\"uint8\"</span>\n",
    "to the `array` function.<br>\n",
    "Display `V2.itemsize`.<br>\n",
    "\n",
    "- Define **without an explicit loop** the vector `v3`, such that for all $i$:\n",
    "$v3[i]\\,=\\,\\sqrt{v2[i]}\\,\\cos(v2[i]\\,\\pi/20)$.<br>\n",
    "tips: $\\leadsto$ use `np.pi`.<br>\n",
    "$\\phantom{--}\\leadsto$  `np.sqrt(...)`, `np.cos(...)` can work on <span style=\"color:green\">ndarray</span> objects.<br>\n",
    "\n",
    "- Show `v3` and its attributes\n",
    "<span style=\"color:green\">shape</span>,\n",
    "<span style=\"color:green\">ndim</span> and\n",
    "<span style=\"color:green\">size</span>.\n",
    "\n",
    "- Modify `v3` with the instruction `v3.shape = (3,3)`: display again `v3` and its attributes\n",
    "<span style=\"color:green\">shape</span>,\n",
    "<span style=\"color:green\">ndim</span> and\n",
    "<span style=\"color:green\">size</span>; observe what has changed.\n",
    "\n",
    "- Convert `v3` to the `L3` list using the`tolist` method of the class <span style=\"color:green\">ndarray</span>. Display `L3`.\n",
    "</span></div>"
   ]
  },
  {
   "cell_type": "code",
   "execution_count": null,
   "id": "ad8a76be-0fd7-4599-9ef8-5021a0cad0ee",
   "metadata": {},
   "outputs": [],
   "source": []
  },
  {
   "cell_type": "markdown",
   "id": "e84138e1-27a0-4e38-9133-bf52415be47e",
   "metadata": {},
   "source": [
    "<div class=\"alert alert-block alert-info\">\n",
    "<span style=\"color: #0000BB;font-weight: bold; font-size:large;\">Exercise 1.2 $–$ Conversion list <-> matrix</span>\n",
    "<span style=\"color: #0000BB\">\n",
    "  \n",
    "- Observe the result of the two cells below:\n",
    "</span></div>"
   ]
  },
  {
   "cell_type": "code",
   "execution_count": null,
   "id": "9a66c0c0-70d9-4f1f-98d2-702ab88cf43f",
   "metadata": {},
   "outputs": [],
   "source": [
    "[10*i+j for i in range(1,4) for j in range(1,4)]"
   ]
  },
  {
   "cell_type": "code",
   "execution_count": null,
   "id": "232c8403-31ef-41ef-8f26-84c43ab4a285",
   "metadata": {},
   "outputs": [],
   "source": [
    "[[10*i+j for j in range(1,4)] for i in range(1,4)]"
   ]
  },
  {
   "cell_type": "markdown",
   "id": "9cd02568-c00f-4dcc-b7f5-8a9d000ed081",
   "metadata": {},
   "source": [
    "<div class=\"alert alert-block alert-info\">\n",
    "<span style=\"color: #0000BB\">\n",
    "    \n",
    "- Deduce two different ways to define the matrix `M` of general term $M_{i,\\,j}=j^{\\,i}$ with $(i,j) \\in [1;5]\\times [1;5]$ using comprehensions list converted to <span style=\"color:green\">ndarray</span> .\n",
    "</span></div>"
   ]
  },
  {
   "cell_type": "code",
   "execution_count": null,
   "id": "52b12d91-fb4e-498a-9f12-66af5df2fcf1",
   "metadata": {},
   "outputs": [],
   "source": []
  },
  {
   "cell_type": "markdown",
   "id": "54a707a5-8530-4e7f-8c5e-e9e5a9b3a12b",
   "metadata": {},
   "source": [
    "## __2 $-$ Reading ASCII files $-$ Encoding__ <a name=\"2\"></a>\n",
    "\n",
    "ASCII files are read with the <span style=\"color:green\">open</span> primitive which returns an iterable object of type </span><span style=\"color:green\">TextIOWrapper</span>: <br />\n",
    "    **<span style=\"font-family:courier\">\n",
    "<span style=\"color:#B08000\">with</span> <span style=\"color:#800080\">open</span>( <span style=\"color:#808080\">< file path ></span>, <span style=\"color:#008000\">\"r\"</span>, encoding=<span style=\"color:#808080\">< encoding_specification ></span>)<span style =\"color:#B08000\"> as</span> F:<br>\n",
    "    $\\phantom{---}$...</p> </span>**\n",
    "    \n",
    "Reading accented characters requires specifying their **encoding** for correct interpretation. <br>\n",
    "The most common encodings are **utf8** (Mac OS X, GNU/Linux default encoding) and **cp1252** or **iso8859-15** (Windows default encoding).<br />\n",
    "\n",
    "Using a **<span style=\"font-family:courier;color:#B08000\">with</span>** block automatically closes the file as soon as you exit the block."
   ]
  },
  {
   "cell_type": "markdown",
   "id": "8fbd0a71-f4c6-430b-8a48-c0118e778a86",
   "metadata": {},
   "source": [
    "<div class=\"alert alert-block alert-info\">\n",
    "<span style=\"color: #0000BB;font-weight: bold; font-size:large;\">Exercise 2.1 –Reading of an ASCII file, decoding accented characters</span>\n",
    "<span style=\"color: #0000BB\">\n",
    "  \n",
    "- Read the `./data/accents.txt` file in a string with the primitive <span style=\"color:green\">read</span>, specifying **cp1252** as encoding, then display the resulting string.\n",
    "- Same work, this time specifying **utf8** as the encoding.\n",
    "</span></div>"
   ]
  },
  {
   "cell_type": "code",
   "execution_count": null,
   "id": "58ada759-db2c-493f-92b6-79929a0209f3",
   "metadata": {},
   "outputs": [],
   "source": []
  },
  {
   "cell_type": "markdown",
   "id": "0d34da9b-671b-4b28-9091-c7822e6b4a41",
   "metadata": {},
   "source": [
    "<div class=\"alert alert-block alert-info\">\n",
    "<span style=\"color: #0000BB;font-weight: bold; font-size:large;\">Exercise 2.2 $–$ Get the list of the lines of an ASCII file</span>\n",
    "<span style=\"color: #0000BB\">\n",
    "  \n",
    "- Define `L`, the list of the lines of the file `data/data.txt` by using the primitive <span style=\"color:green\">readlines</span>. Display `L`.\n",
    "\n",
    "- Now re-define `L` in order to eliminate lines that are comments (starting with `#`). Display `L`.\n",
    "</span></div>"
   ]
  },
  {
   "cell_type": "code",
   "execution_count": null,
   "id": "1802ccd8-8e84-453c-997d-d1c25b0d82b6",
   "metadata": {},
   "outputs": [],
   "source": []
  },
  {
   "cell_type": "markdown",
   "id": "d85b97db-2cf5-4636-af91-99357efc2937",
   "metadata": {},
   "source": [
    "## __3 $-$ Tree manipulation: the `os` module__ <a name=\"3\"></a>\n",
    "\n",
    "The `os` module contain many functions dedicated to manipulating files and\n",
    "directories (also called folders). <br>\n",
    "In the table below _path_ is a string giving the (relative or absolute) path of a file or directory:<br/>\n",
    "|Function         |Header|\n",
    "|-----------------       |------|\n",
    "|os.getcwd()             |returns the absolute path of the current working directory|\n",
    "|os.chdir(_path_)        |makes _path_ the new working directory|\n",
    "|os.path.exists(_path_)  |returns `True` if file (or dir) _paths_ exists, else `False`.|\n",
    "|os.mkdir(_path_)        |creates the directory _path_|\n",
    "|os.listdir(_path_)      |returns the list of files and directories that are in _path_|\n",
    "|os.path.isdir(_path_)   |test if _path_ exists and is a directory|\n",
    "|os.path.isfile(_path_)  |test if _path_ exists and is a file|\n",
    "|os.path.basename()      |returns the name of the file or directory _path_ without the acces path|\n",
    "|os.path.dirname()       |return the access path of _path_|\n",
    "|os.path.split()         |returns the tuple (os.dirname(_path_), os.basename(_path_))|\n",
    "|os.path.join(_p1_, _p2_)|concatenates _p1_ and _p2_ using the operating system path separator|\n",
    "\n",
    "**Helpful Notes**:\n",
    "- the <span style=\"color:green\">\"/\"</span> character can be used as a directory name separator for any operating system,\n",
    "- the current directory can be designated by the shortcut <span style=\"color:green\">\".\"</span>, the parent directory by the shortcut <span style=\"color:green\">\"..\"</span>."
   ]
  },
  {
   "cell_type": "markdown",
   "id": "c0011b6f-5119-4e1c-ac08-00a8fcd524a3",
   "metadata": {},
   "source": [
    "See the examples below showing some usage of the `os` module:"
   ]
  },
  {
   "cell_type": "code",
   "execution_count": 21,
   "id": "90ec0ff1-1b97-4fb1-9ffe-1ced157edcc3",
   "metadata": {},
   "outputs": [],
   "source": [
    "import os"
   ]
  },
  {
   "cell_type": "markdown",
   "id": "cf571e0b-cfb7-49c5-895b-958a2c4c2046",
   "metadata": {},
   "source": [
    "<br>The **current working directory** (cwd):"
   ]
  },
  {
   "cell_type": "code",
   "execution_count": null,
   "id": "92867ea3-3e33-4b3d-9096-6597b3f0339e",
   "metadata": {},
   "outputs": [],
   "source": [
    "os.getcwd()"
   ]
  },
  {
   "cell_type": "markdown",
   "id": "cd64d24a-ddc8-44a1-bc11-319600fd453b",
   "metadata": {},
   "source": [
    "<br>The content of the current working directory:"
   ]
  },
  {
   "cell_type": "code",
   "execution_count": null,
   "id": "c8a46b8f-60b5-4403-9244-d1a5a4d91fcd",
   "metadata": {},
   "outputs": [],
   "source": [
    "os.listdir('.')"
   ]
  },
  {
   "cell_type": "code",
   "execution_count": null,
   "id": "fa8da4ef-d9f9-4040-af1b-3c5856659bf4",
   "metadata": {},
   "outputs": [],
   "source": [
    "os.listdir()     # the default is the cwd..."
   ]
  },
  {
   "cell_type": "markdown",
   "id": "a7e717f8-0660-4320-8930-cfce4a2ba0c2",
   "metadata": {},
   "source": [
    "<br>The content of the parent directory:"
   ]
  },
  {
   "cell_type": "code",
   "execution_count": null,
   "id": "5ba54fa2-5031-4ada-972a-57762011ab57",
   "metadata": {},
   "outputs": [],
   "source": [
    "os.listdir('..')"
   ]
  },
  {
   "cell_type": "markdown",
   "id": "4818e8e1-2618-4aaa-84f0-52eed1df961e",
   "metadata": {},
   "source": [
    "<br>The content of the directory `./data`:"
   ]
  },
  {
   "cell_type": "code",
   "execution_count": null,
   "id": "d84b4706-aa7e-4509-a5c3-aac2a165576c",
   "metadata": {},
   "outputs": [],
   "source": [
    "os.listdir('data')"
   ]
  },
  {
   "cell_type": "markdown",
   "id": "bcfead21-9315-48fa-958f-3c5e6ee3da00",
   "metadata": {},
   "source": [
    "<br> Using `os.path.is<something>`:"
   ]
  },
  {
   "cell_type": "code",
   "execution_count": null,
   "id": "7618c538-49bd-47f0-9baa-1cdad8fdf5ab",
   "metadata": {
    "scrolled": true
   },
   "outputs": [],
   "source": [
    "os.path.isfile('data/data.txt')"
   ]
  },
  {
   "cell_type": "code",
   "execution_count": null,
   "id": "8cbf9135-6ec7-4c46-b160-e6f9480e46ec",
   "metadata": {},
   "outputs": [],
   "source": [
    "os.path.isdir('data/data.txt')"
   ]
  },
  {
   "cell_type": "code",
   "execution_count": null,
   "id": "ced4d6df-89e3-4adb-a1f0-f06bc7972efd",
   "metadata": {},
   "outputs": [],
   "source": [
    "os.path.isdir('data/directory1')"
   ]
  },
  {
   "cell_type": "code",
   "execution_count": null,
   "id": "eca1b16d-7fa8-4909-8c17-b93f852a0bea",
   "metadata": {},
   "outputs": [],
   "source": [
    "os.path.exists('data/data.txt')"
   ]
  },
  {
   "cell_type": "code",
   "execution_count": null,
   "id": "2001636b-9286-4817-8ceb-7d70d35a93a9",
   "metadata": {},
   "outputs": [],
   "source": [
    "os.path.exists('data/directory1/')"
   ]
  },
  {
   "cell_type": "markdown",
   "id": "036ebacc-77d8-4067-b05d-7aadf5b6dd13",
   "metadata": {},
   "source": [
    "<div class=\"alert alert-block alert-info\">\n",
    "<span style=\"color: #0000BB;font-weight: bold; font-size:large;\">Exercise 3.1 $–$ Sorting files/directories</span>\n",
    "<span style=\"color: #0000BB\">\n",
    "    \n",
    "- Display the absolute name of the current directory with `os.gecwd()`.\n",
    "- Define and display `F`, the list comprehension of **files** and `D`, the list comprehension of directories contained in the directory <tt><b><span style=\"color:blue\">sources</span></b></tt>.\n",
    "</span></div>"
   ]
  },
  {
   "cell_type": "code",
   "execution_count": null,
   "id": "83aed5e4-4dcc-4273-8b00-c839b0f65194",
   "metadata": {},
   "outputs": [],
   "source": []
  },
  {
   "cell_type": "markdown",
   "id": "a74bfc09-cb30-404f-a15c-9cbcad94135a",
   "metadata": {},
   "source": [
    "<div class=\"alert alert-block alert-info\">\n",
    "<span style=\"color: #0000BB;font-weight: bold; font-size:large;\">Exercise 3.2 $–$ Full contents of a directory with `os.walk`</span>\n",
    "<span style=\"color: #0000BB\">\n",
    "    \n",
    "- Observe the elements contained in the list `list(os.walk('data'))`.\n",
    "    \n",
    "- Deduce a way to get the list of paths of all the files contained in the directory  `data`.\n",
    "<tt><b><span style=\"color:blue\">sources</span></b></tt> (and all of its subdirectories).\n",
    "</span></div>"
   ]
  },
  {
   "cell_type": "code",
   "execution_count": null,
   "id": "2e1776b4-84b8-4c11-aefd-7cd044798c8b",
   "metadata": {},
   "outputs": [],
   "source": []
  },
  {
   "cell_type": "markdown",
   "id": "831bbe32-5575-453d-a08b-2f5dca551819",
   "metadata": {},
   "source": [
    "## __4 $-$ Reading image files__ <a name=\"4\"></a>\n",
    "\n",
    "There are several modules that allow you to directly read a **file\n",
    "image in PNG** format and retrieve an array `T (nL × nC × 4)` of type\n",
    "`numpy.ndarray`.<br>\n",
    "\n",
    "The `T[i,j]` element of the `T` array is a pixel described by 4 levels Red, Green,\n",
    "Blue, Alpha (opacity).<br>\n",
    "\n",
    "The **imread** function of the **imageio** module returns an array of integers between\n",
    "0 and 255 (one-byte encoding), which corresponds to the “true” image encoding,\n",
    "while the **imread** function of the **matplotlib.pyplot** module converts\n",
    "additional division in floats between 0 and 1.<br>\n",
    "\n",
    "For image display, you can use **matplotlib.pyplot.imshow**."
   ]
  },
  {
   "cell_type": "markdown",
   "id": "26f5f46c-5107-448e-8445-c4c93acef2c8",
   "metadata": {},
   "source": [
    "<div class=\"alert alert-block alert-info\">\n",
    "<span style=\"color: #0000BB;font-weight: bold; font-size:large;\">Exercise 4.1 $–$ Reading and simple image manipulation</span>\n",
    "<span style=\"color: #0000BB\">\n",
    "    \n",
    "- Using the **imread** functions from **imageio** and from **matplotlib.pyplot**, create the arrays `AI` of integers and `AF` of floats by\n",
    "reading the same image <tt><b><span style=\"color:blue\">pinglinux.png</span></b></tt> located in the directory\n",
    "<tt><b><span style=\"color:blue\">sources</span></b></tt>.\n",
    "\n",
    "- Compare their forms and the type of their content. What does the `numpy.allclose(TI,255*TF)` instruction return, why?"
   ]
  },
  {
   "cell_type": "code",
   "execution_count": null,
   "id": "b472ee10-cabf-4949-8410-1dedf8c88518",
   "metadata": {},
   "outputs": [],
   "source": [
    "from imageio.v2 import imread\n",
    "AI = imread(\"data/pinglinux.png\")\n",
    "AI.shape, AI.dtype"
   ]
  },
  {
   "cell_type": "code",
   "execution_count": null,
   "id": "4533c609-35f9-4603-bcc6-887e396489b2",
   "metadata": {},
   "outputs": [],
   "source": [
    "import matplotlib.pyplot as plt\n",
    "AF = plt.imread(\"data/pinglinux.png\")\n",
    "AF.shape, AF.dtype"
   ]
  },
  {
   "cell_type": "markdown",
   "id": "20bc6c72-db11-4b7d-8958-45695782a50e",
   "metadata": {},
   "source": [
    "- Compraison betwenn `AI` and `AF`:"
   ]
  },
  {
   "cell_type": "code",
   "execution_count": null,
   "id": "0402448d-4e5f-4510-bc6d-0fbbd2be5406",
   "metadata": {},
   "outputs": [],
   "source": [
    "np.allclose(AI, AF*255)"
   ]
  },
  {
   "cell_type": "markdown",
   "id": "5131e6cf-f724-49fc-aef8-749214f4210e",
   "metadata": {},
   "source": [
    "- Visual checking:"
   ]
  },
  {
   "cell_type": "code",
   "execution_count": null,
   "id": "6e038345-698c-4b40-b2bd-1e95196346c4",
   "metadata": {},
   "outputs": [],
   "source": [
    "fig, axes = plt.subplots(1,2)  # two graphs\n",
    "ax1, ax2 = axes\n",
    "\n",
    "ax1.set_facecolor( (0.8,1,0.8) ) # green background\n",
    "ax1.set_title(\"Array of uint8\")\n",
    "ax1.imshow(AI)\n",
    "\n",
    "ax2.set_facecolor( (1,0.8,1) )   # magenta background\n",
    "ax2.set_title(\"Array of float\")\n",
    "ax2.imshow(AF);"
   ]
  },
  {
   "cell_type": "markdown",
   "id": "0fb01a0b-6c13-4d75-8d1e-c2104c647451",
   "metadata": {},
   "source": [
    "- Observe and explain the images bellow corresponding to `TI[::-1,:,:]`, `TI[:,::-1,:]` and `TI[:,:,;::-1]` :"
   ]
  },
  {
   "cell_type": "code",
   "execution_count": null,
   "id": "1966fa57-a5e8-4af3-a8da-9113bc9a74d3",
   "metadata": {},
   "outputs": [],
   "source": [
    "plt.imshow(AI[::-1,:,:])"
   ]
  },
  {
   "cell_type": "code",
   "execution_count": null,
   "id": "dbd9cd2e-f514-4a96-bd83-f9fb7ae57ea0",
   "metadata": {
    "scrolled": true
   },
   "outputs": [],
   "source": [
    "plt.imshow(AI[:,::-1,:])"
   ]
  },
  {
   "cell_type": "code",
   "execution_count": null,
   "id": "306b4cb3-d036-4962-b4e4-c1e098c1d412",
   "metadata": {},
   "outputs": [],
   "source": [
    "plt.imshow(AI[:,:,::-1])"
   ]
  },
  {
   "cell_type": "markdown",
   "id": "d3dfd439-0cb1-4217-989a-16fd21063752",
   "metadata": {},
   "source": [
    "## __5 $-$ Drawing curves with `matplolib`__ <a name=\"5\"></a>\n",
    "\n",
    "The **matplotlib.pyplot** module allows you to plot 2D, 3D and other curves.... see the gallery on the site [matplotlib.org/gallery.html](https://matplotlib.org/ gallery.html).\n",
    "\n",
    "**Tutorials**:<br>\n",
    "- on the matplotlib site: https://matplotlib.org/stable/ <br />\n",
    "- at the LABRI laboratory: http://www.labri.fr/perso/nrougier/teaching/matplotlib/ <br>"
   ]
  },
  {
   "cell_type": "markdown",
   "id": "70d1cbec-f464-491b-9794-4fca117718cc",
   "metadata": {},
   "source": [
    "Typical example of a **matplotlib** plot:"
   ]
  },
  {
   "cell_type": "code",
   "execution_count": 44,
   "id": "7d826edc-90db-4180-9ec4-dfe74bf9ad97",
   "metadata": {},
   "outputs": [],
   "source": [
    "# Data to be plotted\n",
    "# Left graph: representative curves\n",
    "X = np.linspace(0,10,500) # Vector of values for abscissas\n",
    "Y1 = 10*np.exp(-(X-8)**2)\n",
    "Y2 = np.cos(3*np.pi*X)*np.exp(-X/2)\n",
    "# Right graph: parametric curves\n",
    "A = np.linspace(0, np.pi, 300) # Vector of values for parameters\n",
    "Vx = (np.sin(5*A)-3*np.cos(A))*np.cos(A)\n",
    "Vy = (np.sin(5*A)-3*np.cos(A))*np.sin(A)"
   ]
  },
  {
   "cell_type": "code",
   "execution_count": null,
   "id": "1fdf4478-6b3b-4590-a651-b45040f95a02",
   "metadata": {},
   "outputs": [],
   "source": [
    "fig, (ax1, ax2) = plt.subplots(1,2)  # 1 row 2 colums\n",
    "fig.set_size_inches(12,5)\n",
    "\n",
    "# ax1 -> the left side drawing\n",
    "ax1.set_title(\"SubPlot 1 : 2 curves in frames (X,Y1) and (X,Y2)\")\n",
    "\n",
    "# 1 - Curve in the frame (X,Y1)\n",
    "ax1.set_ylabel(\"Y1 axis\", color=\"g\")\n",
    "p1 = ax1.plot(X, Y2, \"g-\", linewidth=2, label=r\"$\\cos(2\\pi x)e^{-x/2}$\")\n",
    "ax1.grid()\n",
    "\n",
    "# 2 - second frame (X,Y2):\n",
    "ax1t = ax1.twinx()\n",
    "p2 = ax1t.plot(X, Y1, \"b-\", linewidth=2, label=\"$10\\,e^{-(x - 8)^2}$\")\n",
    "ax1t.set_xlabel(\"x (common abcissa)\")\n",
    "ax1t.set_ylabel(\"Y2 axis\", color=\"b\")\n",
    "\n",
    "# 3- a legend box\n",
    "p12 = p1+p2\n",
    "labels = [L.get_label() for L in p12]\n",
    "ax1.legend(p12, labels, loc=\"upper center\", fontsize=14)\n",
    "\n",
    "# ax2 -> the right side drawing\n",
    "ax2.set_title(\"SubPlot 2 : parametric curve\")\n",
    "ax2.plot( Vx, Vy, \"m-\", linewidth=4)\n",
    "ax2.plot(-Vx, Vy, \"m-\", linewidth=4, label=\"Butterfly\")\n",
    "ax2.axis(\"equal\");\n",
    "ax2.legend()\n",
    "ax2.grid()\n",
    "\n",
    "plt.savefig(\"curves.png\") # Saving the figure in a .png file\n",
    "#plt.show() # Useless in a notebook but essential in a .py program"
   ]
  }
 ],
 "metadata": {
  "kernelspec": {
   "display_name": "Python 3 (ipykernel)",
   "language": "python",
   "name": "python3"
  },
  "language_info": {
   "codemirror_mode": {
    "name": "ipython",
    "version": 3
   },
   "file_extension": ".py",
   "mimetype": "text/x-python",
   "name": "python",
   "nbconvert_exporter": "python",
   "pygments_lexer": "ipython3",
   "version": "3.8.18"
  }
 },
 "nbformat": 4,
 "nbformat_minor": 5
}
