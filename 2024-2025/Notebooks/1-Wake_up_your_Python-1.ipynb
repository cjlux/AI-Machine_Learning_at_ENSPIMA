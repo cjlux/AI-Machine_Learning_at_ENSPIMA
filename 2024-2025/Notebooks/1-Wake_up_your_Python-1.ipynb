{
 "cells": [
  {
   "cell_type": "markdown",
   "id": "244489cb-64dd-4d7b-bed9-572a13ffe3a0",
   "metadata": {},
   "source": [
    "<span style=\"font-size:10pt\">AI-ML @ ENSPIMA / v1.2 september 2024 / Jean-Luc CHARLES (Jean-Luc.charles@mailo.com) / CC BY-SA 4.0 /</span>"
   ]
  },
  {
   "cell_type": "markdown",
   "id": "a71c3100-5f1c-40c5-8c20-37909a72ba1d",
   "metadata": {
    "tags": []
   },
   "source": [
    "# <img align=\"middle\" src=\"./img/alarmClock.png\" width=\"60\" height=\"60\">  __Wake up your Python__ ! part 1\n",
    "\n",
    "##  1 - The range primitive\n",
    "##  2 - The pythonic loop – Iterable objects\n",
    "### &emsp;&emsp; The <span style=\"color:green\">enumerate</span> primitive\n",
    "### &emsp;&emsp; The <span style=\"color:green\">zip</span> primitive\n",
    "##  3 - Mutable/not mutable objects in Python\n",
    "##  4 - The <span style=\"color:green\">list</span> type\n",
    "### &emsp;&emsp;List comprehension\n",
    "### &emsp;&emsp; Slicing\n",
    "## 5 - The <span style=\"color:green\">str</span> type\n",
    "### &emsp;&emsp;f-string: formatted string"
   ]
  },
  {
   "cell_type": "markdown",
   "id": "47ee57a3-1b99-4e48-b38d-940a1f7a851f",
   "metadata": {},
   "source": [
    "<div class=\"alert alert-block alert-danger\">\n",
    "<span style=\"color:#000080\">For each example in this notebook, take care to read the explanations given and to execute the Python cells with $\\left(\\mathtt{Shift+Enter}\\right)$, before proceeding to the exercises.\n",
    "</span>\n",
    "</div>"
   ]
  },
  {
   "cell_type": "markdown",
   "id": "c597d74f-4eb6-4ba1-bdc9-c930d1db85d2",
   "metadata": {},
   "source": [
    "## 1 - The `range` primitive\n",
    "The `range` function allows you to build an **iterable object** made up of a sequence of integers:\n",
    "\n",
    "`range(start, stop[, step])` returns an integer generator ranging from `start` __inclusive__ to `stop` __exclusive__, in steps (integer) of `step`.<br /> If only `stop` is given, the generator starts at zero, and the step is 1."
   ]
  },
  {
   "cell_type": "code",
   "execution_count": 1,
   "id": "fdf151ff-ee9c-4744-8c18-082b6aebc7c9",
   "metadata": {},
   "outputs": [
    {
     "data": {
      "text/plain": [
       "range(1, 10)"
      ]
     },
     "execution_count": 1,
     "metadata": {},
     "output_type": "execute_result"
    }
   ],
   "source": [
    "range(1,10)"
   ]
  },
  {
   "cell_type": "markdown",
   "id": "2debf37c-b891-4bd7-944e-c6f7272ccd79",
   "metadata": {},
   "source": [
    "If you want to *see* a range object as a list, just turn it into a list:"
   ]
  },
  {
   "cell_type": "code",
   "execution_count": 3,
   "id": "3ec8b619-04ef-4802-a074-42c8b0564fed",
   "metadata": {},
   "outputs": [
    {
     "data": {
      "text/plain": [
       "[0, 1, 2, 3, 4, 5, 6, 7, 8, 9]"
      ]
     },
     "execution_count": 3,
     "metadata": {},
     "output_type": "execute_result"
    }
   ],
   "source": [
    "list(range(10))"
   ]
  },
  {
   "cell_type": "markdown",
   "id": "6e20bb60-8645-4f9f-91de-9a755b70406e",
   "metadata": {},
   "source": [
    "A `range` object is **iterable**: it can be traversed simply with a Python loop (this is 90% of the use cases for `range`):"
   ]
  },
  {
   "cell_type": "code",
   "execution_count": 4,
   "id": "59fb690e-5cef-4c13-b117-ed965e47d019",
   "metadata": {},
   "outputs": [
    {
     "name": "stdout",
     "output_type": "stream",
     "text": [
      "1\n",
      "2\n",
      "3\n",
      "4\n",
      "5\n",
      "6\n",
      "7\n",
      "8\n",
      "9\n"
     ]
    }
   ],
   "source": [
    "for i in range(1,10):\n",
    "    print(i)"
   ]
  },
  {
   "cell_type": "markdown",
   "id": "be6287e9-3435-4a1a-a848-cae69ba06ee0",
   "metadata": {},
   "source": [
    "<div class=\"alert alert-block alert-info\">\n",
    "<span style=\"color: #0000BB;font-weight: bold; font-size:large;\">Exercise 1</span>\n",
    "<div><span style=\"color: #0000BB\">\n",
    "    \n",
    "Using `print`, `list` and `range`, can you display as a list:\n",
    "- the integer numbers from 0 to 10 inclusive\n",
    "- the integer numbers from -1 to -5 inclusive\n",
    "- the first 5 even integers from 2 to 10 inclusive\n",
    "</span></div>"
   ]
  },
  {
   "cell_type": "code",
   "execution_count": null,
   "id": "90e41f74-6878-4f26-a635-eb5f2ec3e0e6",
   "metadata": {},
   "outputs": [],
   "source": []
  },
  {
   "cell_type": "markdown",
   "id": "cbf39bcb-23d9-4060-9e6b-3b0757bc29f3",
   "metadata": {},
   "source": [
    "## __2 - The pythonic loop – Iterable objects__\n",
    "Python **Iterable** are objects that you can iterate over simply with a loop. <br>\n",
    "The main iterable types are: \n",
    "<span style=\"color:green;font-weight:bold;font-family:arial\">list</span>,\n",
    "<span style=\"color:green;font-weight:bold;font-family:arial\">tuple</span> (readonly list),\n",
    "<span style=\"color:green;font-weight:bold;font-family:arial\">str</span>,\n",
    "<span style=\"color:green;font-weight:bold;font-family:arial\">range</span>..."
   ]
  },
  {
   "cell_type": "code",
   "execution_count": null,
   "id": "33e2c158-813c-47b2-a83e-1f20de5e8d8c",
   "metadata": {},
   "outputs": [],
   "source": [
    "# Pythonic loop iterating over a list:\n",
    "for e in [1, 2, \"Hello\", [\"a\", \"b\", \"c\", \"d\"] ]: # e iterates over all the elements of the list\n",
    "    print(e)      # display e"
   ]
  },
  {
   "cell_type": "code",
   "execution_count": null,
   "id": "82572c04-4b35-4245-b983-6f444fc6ef21",
   "metadata": {},
   "outputs": [],
   "source": [
    "# Pythonic loop iterating over a tuple:\n",
    "colors = (\"Red\", \"Green\", \"Blue\")\n",
    "for c in colors:\n",
    "    print(c)"
   ]
  },
  {
   "cell_type": "code",
   "execution_count": null,
   "id": "21b3b018-3373-46eb-ac69-f7217c53bf5f",
   "metadata": {},
   "outputs": [],
   "source": [
    "# Pythonic loop iterating over a string:\n",
    "for c in \"hello\": # c iterates over all the letters of the string \"hello\"\n",
    "    print(c)      # display c"
   ]
  },
  {
   "cell_type": "code",
   "execution_count": null,
   "id": "556e95de-6944-4b56-818a-85b5376d1e78",
   "metadata": {},
   "outputs": [],
   "source": [
    "# Pythonic loop ietrating over a range:\n",
    "for e in range(5):         # Iterations: e is successvely 0, 1, 2, 3 and 4.\n",
    "    print(e, \"->\", e*e)    # print the value of e*e"
   ]
  },
  {
   "cell_type": "markdown",
   "id": "2da347d3-c14b-4891-ba0b-cc47e5bab198",
   "metadata": {},
   "source": [
    "<div class=\"alert alert-block alert-info\">\n",
    "<span style=\"color: #0000BB;font-weight: bold; font-size:large;\">Exercise 2.1 $-$ Simple traversal of a list</span>\n",
    "<span style=\"color: #0000BB\">\n",
    "    \n",
    "- Define the list of strings: `L1 = [\"data1.txt\", \"data2.txt\", \"data3.txt\", \"data4.txt\"]`.<br>\n",
    "- Define the empty list `L2`.<br>\n",
    "- In a loop traversing `L1`, append at the end of `L2` the current element of `L1` with the suffix `\".txt\"` replaced by `\".png\"`.<br>\n",
    "    tips: $\\leadsto$ `L2.append(item)` append the object `item` to the list `L2`.<br>\n",
    "    $\\phantom{--}\\leadsto$ See this [page](https://www.w3schools.com/python/ref_string_replace.asp) on the site www.w3schools.com/python for a short documentation on the methode `replace` of the `str` class.\n",
    "- Displays `L2`.\n",
    "</span></div>"
   ]
  },
  {
   "cell_type": "code",
   "execution_count": null,
   "id": "6a1d6265-d4a0-40be-8d70-0699bc33a31b",
   "metadata": {},
   "outputs": [],
   "source": []
  },
  {
   "cell_type": "markdown",
   "id": "2c2ff4aa-c54d-414a-9e4e-107faf44e5f5",
   "metadata": {},
   "source": [
    "<div class=\"alert alert-block alert-info\"><span style=\"color: #0000BB\">\n",
    "    \n",
    "- Traverse `L1` backwards with a `for` loop and print the current term at each lap of the loop.<br>\n",
    "    $\\leadsto$ Tips: display `L1[::-1]` ...\n",
    "</span></div>"
   ]
  },
  {
   "cell_type": "code",
   "execution_count": null,
   "id": "9c621459-196f-43b6-8521-d52aa4ec6c80",
   "metadata": {},
   "outputs": [],
   "source": []
  },
  {
   "cell_type": "markdown",
   "id": "6e9b37d4-71da-48b9-b03d-87823f330a7a",
   "metadata": {},
   "source": [
    "<div class=\"alert alert-block alert-info\"><span style=\"color: #0000BB\">\n",
    "    \n",
    "- Define `L3` obtained by traversing `L1` backwards and adding the current term without its \".txt\" suffixe.<br>\n",
    "- Displays `L3`.\n",
    "</span></div>"
   ]
  },
  {
   "cell_type": "code",
   "execution_count": null,
   "id": "754d2b52-7fda-4b20-a50f-bb99b624115a",
   "metadata": {},
   "outputs": [],
   "source": []
  },
  {
   "cell_type": "markdown",
   "id": "aaa670d9-2786-4413-aff7-07e774d4057d",
   "metadata": {
    "tags": []
   },
   "source": [
    "## The `enumerate` primitive <a name=\"enumerate\"> </a>"
   ]
  },
  {
   "cell_type": "markdown",
   "id": "3f8e7db8-1f43-42f5-a4be-3c8513c42535",
   "metadata": {},
   "source": [
    "The `enumerate` function allows to loop across an iterable, returning a pair (loop_number, item):"
   ]
  },
  {
   "cell_type": "code",
   "execution_count": null,
   "id": "d0cea0e3-2b53-4f26-acee-9f3141ebcb44",
   "metadata": {},
   "outputs": [],
   "source": [
    "for i,character in enumerate(\"Hello\"):\n",
    "    print(i, \"->\", character)"
   ]
  },
  {
   "cell_type": "markdown",
   "id": "5e20173b-598c-4473-b5c2-aca24cf2bdcb",
   "metadata": {},
   "source": [
    "<div class=\"alert alert-block alert-info\">\n",
    "<span style=\"color: #0000BB;font-weight: bold; font-size:large;\">Exercise 2.2 $-$ enumerated  traversal of an iterable.</span>\n",
    "<span style=\"color: #0000BB\">\n",
    "\n",
    "With the list `L1` from the previous exercise:<br>\n",
    "- Using the primitive <span style=\"color:green;font-family:arial\">enumerate</span>, iterate over `L1` with the couple `n,e`: display at each loop lap the lap number (`n`) and the current element of `L1` (`e`).<br>\n",
    "- Find two different ways to display the loop lap number starting at 10.\n",
    "</span></div>"
   ]
  },
  {
   "cell_type": "code",
   "execution_count": null,
   "id": "93002250-24c1-4376-8c8a-3f07305b4af8",
   "metadata": {},
   "outputs": [],
   "source": []
  },
  {
   "cell_type": "markdown",
   "id": "2fb6220f-9034-4521-816a-4e24fc9a0a2c",
   "metadata": {
    "tags": []
   },
   "source": [
    "## The `zip` primitive <a name=\"zip\"> </a>"
   ]
  },
  {
   "cell_type": "markdown",
   "id": "dcc02dd7-21b7-4140-947f-9c911cb75723",
   "metadata": {},
   "source": [
    "With the `zip` function you can loop through many irtables at the same time :"
   ]
  },
  {
   "cell_type": "code",
   "execution_count": null,
   "id": "9900e84e-dc98-49fa-b67f-0990b26dcc79",
   "metadata": {},
   "outputs": [],
   "source": [
    "labels = [\"length\", \"diameter\", \"mass\"]\n",
    "values = [10, 0.1, 1.1e2]\n",
    "units  = ('mm', 'mm', 'kg')\n",
    "\n",
    "for lab, val, u in zip(labels, values, units):\n",
    "    print(\"parameter\", lab, \"has value:\", val, u)"
   ]
  },
  {
   "cell_type": "markdown",
   "id": "08a16be1-ab36-4188-8b91-ab4ac8ce36a2",
   "metadata": {},
   "source": [
    "<div class=\"alert alert-block alert-info\">\n",
    "<span style=\"color: #0000BB;font-weight: bold; font-size:large;\">Exercise 2.2 $–$ <span style=\"color:green\">zip</span> primitive</span>\n",
    "<span style=\"color: #0000BB\">    \n",
    "    \n",
    "- Define `R` as `range(5,-6,-2)` and display `R` as a list.\n",
    "- Using the <span style=\"color:green\">zip</span> primitive, simultaneously loop over `R` and `L1` with the pair of names `n, e` and display at each loop lap the value of `n` followed by `\":\"` followed by the value of `e`."
   ]
  },
  {
   "cell_type": "code",
   "execution_count": null,
   "id": "61098acb-34d7-44bc-acdf-0db730fa2430",
   "metadata": {},
   "outputs": [],
   "source": []
  },
  {
   "cell_type": "markdown",
   "id": "8cefef2b-a70b-4b76-9f8e-2dc604b2545f",
   "metadata": {},
   "source": [
    "## __3 - `Mutable/immutable` objects in Python__ <a name=\"3\"></a>\n",
    "\n",
    "Python **mutable objects** are instances of classes that can be modified using the methods\n",
    "classes or language operator.\n",
    "\n",
    "Most methods that modify a mutable object return **nothing** because the modification is done\n",
    "*in place* on the object data.<br>\n",
    "An important consequence is that if we write\n",
    "<span style=\"color:#9f1f0f\">X = mutableobject.method(...)</span>,\n",
    "where <span style=\"color:#9f1f0f\">method</span> modifies\n",
    "<span style=\"color:#9f1f0f\">mutableobject</span>, we get\n",
    "<span style=\"color:#9f1f0f\">None</span> because <span style=\"color:#9f1f0f\">method</span> returns nothing  !!\n",
    "\n",
    "The main mutable objects are **lists**\n",
    "(class <span style=\"color:green\">list</span>), **dictionaries**\n",
    "(class <span style=\"color:green\">dict</span>) and optionally\n",
    "**user-defined classes**.\n",
    "\n",
    "Most **base types** are **not mutable** like\n",
    "<span style=\"color:green\">int</span>,\n",
    "<span style=\"color:green\">float</span>,\n",
    "<span style=\"color:green\">complex</span>,\n",
    "<span style=\"color:green\">str</span>,\n",
    "<span style=\"color:green\">bool</span>... as well as the type\n",
    "<span style=\"color:green\">tuple</span>\n",
    "(this is what differentiates it from the <span style=\"color:green\">list</span> type)."
   ]
  },
  {
   "cell_type": "markdown",
   "id": "60b67938-5190-4948-8fd7-540f66bbca82",
   "metadata": {},
   "source": [
    "#### <span style=\"color:#0060B0\"> $\\leadsto$ A string is not mutable: </span>"
   ]
  },
  {
   "cell_type": "code",
   "execution_count": null,
   "id": "7ace2ed0-b480-41ff-beb4-b20df1ce2099",
   "metadata": {},
   "outputs": [],
   "source": [
    "a = \"hello\"               # string -> not mutable!\n",
    "b = a.replace(\"h\",\"H\")    # a.replace(...) retuns a modified copy of a\n",
    "print(a, b)                # a has not changed"
   ]
  },
  {
   "cell_type": "markdown",
   "id": "dccd856b-a33b-4b99-845c-1bc3d2b02c35",
   "metadata": {},
   "source": [
    "#### <span style=\"color:#0060B0\"> $\\leadsto$ A list is mutable: the `sort` method acts on the list and returns <span style=\"color:#9f1f0f\">None</span></span>"
   ]
  },
  {
   "cell_type": "code",
   "execution_count": null,
   "id": "019073c6-6011-4b09-a455-3d9c42873cb9",
   "metadata": {
    "jupyter": {
     "source_hidden": true
    }
   },
   "outputs": [],
   "source": [
    "L = list(range(5,-1,-1)); L"
   ]
  },
  {
   "cell_type": "code",
   "execution_count": null,
   "id": "44c98aa0-4abe-4594-996c-48398475c665",
   "metadata": {},
   "outputs": [],
   "source": [
    "L.sort(); L"
   ]
  },
  {
   "cell_type": "markdown",
   "id": "2544f749-d586-476e-bb0a-d31ad01af8b5",
   "metadata": {},
   "source": [
    "<br>\n",
    "**<span style=\"color:#800000\">FATAL ERROR: </span>**"
   ]
  },
  {
   "cell_type": "code",
   "execution_count": null,
   "id": "d3595c05-0614-4f69-8939-652c81889bd2",
   "metadata": {
    "jupyter": {
     "source_hidden": true
    }
   },
   "outputs": [],
   "source": [
    "L = L.sort()  # L is lost !!!!\n",
    "print(L)"
   ]
  },
  {
   "cell_type": "markdown",
   "id": "385f481f-bde8-445c-8e9d-3a08fd8ed7b6",
   "metadata": {},
   "source": [
    "## __4 - The `list` type__ <a name=\"4\"></a>"
   ]
  },
  {
   "cell_type": "markdown",
   "id": "18584b53-5e48-4fb0-89ca-5f9f0dd3d896",
   "metadata": {},
   "source": [
    "<div class=\"alert alert-block alert-info\">\n",
    "<span style=\"color: #0000BB;font-weight: bold; font-size:large;\">Exercise 4.1</span>\n",
    "<span style=\"color: #0000BB\">\n",
    "\n",
    "\n",
    "- Using the <span style=\"color:green\">randint</span> function of the <span style=\"color:green\">random</span> module\n",
    "    and the <span style=\"color:green\">append</span> method of the <span style=\"color:green\">list</span> class, create\n",
    "`LA`, a list of 10 random integer between 0 and 30.<br>\n",
    "(If necessary see [module random](https://docs.python.org/3/library/random.html), or the inline help\n",
    "by typing <tt><span style=\"color:green\">help(\"random.randint\")</span></tt> in a cell.<br>\n",
    "- Arrange the elements of `LA` in ascending order then display `LA`.\n",
    "- Now sort the elements of `LA`  in descending order then display `LA`<br><br>\n",
    "  tips: $\\leadsto$ look at the online help on `list.sort`"
   ]
  },
  {
   "cell_type": "code",
   "execution_count": null,
   "id": "b3463e45-5572-4b2b-8435-1b754f1f96a5",
   "metadata": {},
   "outputs": [],
   "source": []
  },
  {
   "cell_type": "markdown",
   "id": "5581b01c-67b5-47e0-b897-6e6592132123",
   "metadata": {},
   "source": [
    "## ▸ List comprehension <a name=\"list_comprehension\"></a>\n",
    "\n",
    "A **list comprehension** is a list including a **a loop** in its definition: `L = [ <expression> for <item> in <iterable> ]`.<br>\n",
    "you can also incorporate a filter: `[ <expression> for <item> in <iterable> if <condition(s)> ]`."
   ]
  },
  {
   "cell_type": "code",
   "execution_count": null,
   "id": "c4b89338-8b4f-4ee5-a081-1c48d51dc1d8",
   "metadata": {},
   "outputs": [],
   "source": [
    "# Examples:\n",
    "L1 = [\"data\"+str(i)+\".txt\" for i in range(1,5)]\n",
    "L1"
   ]
  },
  {
   "cell_type": "code",
   "execution_count": null,
   "id": "fd62c062-2cfd-4cfd-94c7-0dfcf43d9d95",
   "metadata": {},
   "outputs": [],
   "source": [
    "# Examples:\n",
    "L2 = [x-6 for x in range(16) if x % 3 != 0]\n",
    "L2"
   ]
  },
  {
   "cell_type": "markdown",
   "id": "6a7a238e-19e8-4699-89a6-efdd93638c18",
   "metadata": {},
   "source": [
    "<div class=\"alert alert-block alert-info\">\n",
    "<span style=\"color: #0000BB;font-weight: bold; font-size:large;\">Exercise 4.2 $-$ List comprehension</span>\n",
    "<span style=\"color: #0000BB\">\n",
    "\n",
    "- Redefine in comprehension the `LA` list of the previous exercise.\n",
    "- Define and display the list comprehension `LS` of the squares of the elements of `LA`.\n",
    "- Define and display the list comprehension `LE` of the even elements of `LA`.\n",
    "- Define and display the list comprehension `LO` of squares of the odd elements of `LA`."
   ]
  },
  {
   "cell_type": "code",
   "execution_count": null,
   "id": "b5115ca1-6e22-4263-a803-0da7a622edb1",
   "metadata": {},
   "outputs": [],
   "source": []
  },
  {
   "cell_type": "markdown",
   "id": "93b8ea3b-05c0-4c9f-8d1a-1df72bbcfed3",
   "metadata": {},
   "source": [
    "## ▸ Slicing <a name=\"slicing\"></a>\n",
    "The **slicing** allows you to extract part of a list: **it is a technique to master absolutely**.\n",
    "\n",
    "This technique also applies to character strings and multidimensional arrays\n",
    "(like numpy.ndarray).<br />\n",
    "\n",
    "The syntax with the list `L` is:<br>\n",
    " &emsp;&emsp;`L[<start inclusive>:<end exclusive>:<step>]`<br />\n",
    "or, if the step is 1: <br>\n",
    " &emsp;&emsp;`L[<start inclusive>:<end exclusive>]`<br />\n",
    "\n",
    "Using negative indices allows the list to be traversed in the opposite direction.\n",
    "\n",
    "<img src=\"img/slicing.png\" style=\"height:300px;width:400px\" align=\"middle\"/>"
   ]
  },
  {
   "cell_type": "markdown",
   "id": "ba9601c3-5db5-451b-ab75-7e3ff1fd050d",
   "metadata": {},
   "source": [
    "<div class=\"alert alert-block alert-info\">\n",
    "<span style=\"color: #0000BB;font-weight: bold; font-size:large;\">Exercise 4.3 $-$ List slicing</span>\n",
    "<span style=\"color: #0000BB\">\n",
    "\n",
    "- Set and display `LC`, the list of integers from -10 to 10.\n",
    "- Extract and display the first 3 elements of `LC`.\n",
    "- Extract and display the last 4 elements of `LC`.\n",
    "- Define and display `LC1`, the sub-list of `LC` from third element to 5th element included."
   ]
  },
  {
   "cell_type": "code",
   "execution_count": null,
   "id": "f2184fc7-04d1-491d-98d4-2ca4bdbead5a",
   "metadata": {},
   "outputs": [],
   "source": []
  },
  {
   "cell_type": "markdown",
   "id": "8444ec08-7065-4a16-b4b6-2af42025c888",
   "metadata": {},
   "source": [
    "## __5 - The `str` type__ <a id=\"5\" name=\"5\"></a>"
   ]
  },
  {
   "cell_type": "markdown",
   "id": "2924ddc3-4c2b-4459-aad8-e4dcc99db529",
   "metadata": {},
   "source": [
    "The expression `dir(item)` returns the names of the attributes and methods of `item`:"
   ]
  },
  {
   "cell_type": "code",
   "execution_count": null,
   "id": "aedd46cd-f7a6-4e2f-bcd7-b4fc135623d2",
   "metadata": {},
   "outputs": [],
   "source": [
    "print(dir(str))"
   ]
  },
  {
   "cell_type": "markdown",
   "id": "5faabfc1-44d6-495c-a86c-7d52d28a2490",
   "metadata": {},
   "source": [
    "Seeing the result of `dir(str)` in the cell below can you predict the result of list comprehension in the next cell ?"
   ]
  },
  {
   "cell_type": "code",
   "execution_count": null,
   "id": "223d35c7-5c97-4835-9da2-d9b455ce2d53",
   "metadata": {},
   "outputs": [],
   "source": [
    "print([item for item in dir(str) if not item.startswith(\"__\")])"
   ]
  },
  {
   "cell_type": "markdown",
   "id": "d0cc0218-f171-498b-9b88-393ee46031f1",
   "metadata": {},
   "source": [
    "<div class=\"alert alert-block alert-info\">\n",
    "<span style=\"color: #0000BB;font-weight: bold; font-size:large;\">Exercise 5.1</span>\n",
    "<span style=\"color: #0000BB\">\n",
    "    \n",
    "- Display the help on the `replace` method of the `str` class.\n",
    "- Define and display the string `S1` containing `\"Hello friends!\"`.\n",
    "- Define and display the string `S2` equal to S1 capitalized.\n",
    "- Define and display the string `S3` obtained by replacing in S1 `Hello` by `Goodbye`.\n",
    "- Verify that `S1` has not been modified...      \n",
    "</span></div>"
   ]
  },
  {
   "cell_type": "code",
   "execution_count": null,
   "id": "dc8d2537-b3b0-45b5-8e9a-559ec31445c9",
   "metadata": {},
   "outputs": [],
   "source": []
  },
  {
   "cell_type": "markdown",
   "id": "ebc3a0b3-82bd-4dd8-a4f4-be537e82f1f5",
   "metadata": {},
   "source": [
    "<div class=\"alert alert-block alert-info\">\n",
    "<span style=\"color: #0000BB;font-weight: bold; font-size:large;\">Exercise 5.2</span>\n",
    "<span style=\"color: #0000BB\">\n",
    "        \n",
    "- Define `fileName` as the string `\"data1.txt\"`.\n",
    "- Using the `replace` method applied to `fileName`, define `imageName` by replacing `\".txt\"` by `\".png\"` in `fileName`\n",
    "- Display `fileName` and `imageName`.\n",
    "</span></div>"
   ]
  },
  {
   "cell_type": "code",
   "execution_count": null,
   "id": "d0ef0eb9-cb45-407c-a8ab-d52ec6808fd3",
   "metadata": {},
   "outputs": [],
   "source": []
  },
  {
   "cell_type": "markdown",
   "id": "1ba7ae11-06b6-484d-a3c7-aa637322c02c",
   "metadata": {},
   "source": [
    "<div class=\"alert alert-block alert-info\">\n",
    "<span style=\"color: #0000BB;font-weight: bold; font-size:large;\">Exercise 5.3 Palindrome</span>\n",
    "<span style=\"color: #0000BB\">\n",
    "  \n",
    "- Define `S` as the string `\"A man, a plan, a canal--Panama!\"`.\n",
    "- Define `s` as `S` converted to lower case.\n",
    "- Verify that `s` is a *palindrome*  : ignoring comas, spaces, dashes, exclamation marks... reading it from left to right and from right to left gives the same result."
   ]
  },
  {
   "cell_type": "code",
   "execution_count": null,
   "id": "900f3788-998c-4a31-b676-d82b9d12bb8d",
   "metadata": {},
   "outputs": [],
   "source": []
  },
  {
   "cell_type": "markdown",
   "id": "44195f9c-eb9a-47d3-9207-2c0d82680c4a",
   "metadata": {},
   "source": [
    "### ▸ f-string: formatted string. <a name=\"f-string\"></a>\n",
    "\n",
    "The syntaxe `f\".....\"` constructs a formatted string. Take a look at some formatting examples below:"
   ]
  },
  {
   "cell_type": "code",
   "execution_count": null,
   "id": "d136b7f7-a038-45d3-9eea-9e6523ef2667",
   "metadata": {},
   "outputs": [],
   "source": [
    "amount = 123.4567\n",
    "message = f\"Amount due: {amount} €\" # Python looks for the occurrence of {expression} and \n",
    "                                    # replaces expression by its value\n",
    "print(message)"
   ]
  },
  {
   "cell_type": "markdown",
   "id": "9a218a60-ce6d-4378-8043-f2eba42afc91",
   "metadata": {},
   "source": [
    "<br>By specifying the format with `{expression:format}` we can control the format.<br>\n",
    "`{expression:.2f}` $\\leadsto$ `expression` is replaced by its value as a float with 2 decimal places:\n"
   ]
  },
  {
   "cell_type": "code",
   "execution_count": null,
   "id": "334c34d9-bb3d-4749-b03f-c0dd125256da",
   "metadata": {},
   "outputs": [],
   "source": [
    "print(f\"Amount due: {amount:.2f} €\")"
   ]
  },
  {
   "cell_type": "markdown",
   "id": "6ab68053-135f-41c4-a7c1-59f5efb5836c",
   "metadata": {},
   "source": [
    "<br>`{expression:8.2f}` $\\leadsto$ `expression` is replaced by its value as an 8 characters float number\n",
    "with 2 decimal places:"
   ]
  },
  {
   "cell_type": "code",
   "execution_count": null,
   "id": "304b378d-80ac-46dc-9568-bbdf9cc28a3f",
   "metadata": {},
   "outputs": [],
   "source": [
    "print(f\"Amount due: {amount:8.2f} €\")"
   ]
  },
  {
   "cell_type": "markdown",
   "id": "116e6dad-98bc-4ff9-8130-5291883ddaf0",
   "metadata": {},
   "source": [
    "<br>`{expression:08.2f}` $\\leadsto$ `expression` is replaced by its value as an 8 characters float\n",
    "with 2 decimal places and left padding with 0s."
   ]
  },
  {
   "cell_type": "code",
   "execution_count": null,
   "id": "410fd5d5-b15d-42fd-b70c-06cdf11413c7",
   "metadata": {},
   "outputs": [],
   "source": [
    "print(\"Amount due: {amount:08.2f} €\")"
   ]
  }
 ],
 "metadata": {
  "kernelspec": {
   "display_name": "Python 3 (ipykernel)",
   "language": "python",
   "name": "python3"
  },
  "language_info": {
   "codemirror_mode": {
    "name": "ipython",
    "version": 3
   },
   "file_extension": ".py",
   "mimetype": "text/x-python",
   "name": "python",
   "nbconvert_exporter": "python",
   "pygments_lexer": "ipython3",
   "version": "3.12.3"
  }
 },
 "nbformat": 4,
 "nbformat_minor": 5
}
