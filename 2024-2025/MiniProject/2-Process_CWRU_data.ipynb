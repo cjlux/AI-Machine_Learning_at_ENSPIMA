{
 "cells": [
  {
   "cell_type": "markdown",
   "id": "a018942e",
   "metadata": {},
   "source": [
    "<span style=\"font-size:10pt\">AI-ML @ ENSPIMA / v1.3 september 2024 / Jean-Luc CHARLES (Jean-Luc.charles@mailo.com) / CC BY-SA 4.0 /</span>"
   ]
  },
  {
   "cell_type": "markdown",
   "id": "f04cedc7",
   "metadata": {
    "tags": []
   },
   "source": [
    "<div style=\"color:brown;font-family:arial;font-size:26pt;font-weight:bold;text-align:center\"> \n",
    "Machine Learning $-$ MiniProject</div><br>\n",
    "<hr>\n",
    "<div style=\"color:blue;font-family:arial;font-size:22pt;font-weight:bold;text-align:center\">\n",
    "Training a neural network to diagnose bearing faults<br><br>\n",
    "Part 2/3: Pre-Processing of the CWRU dataset</div>\n",
    "<hr>\n",
    "Expected duration : 60 minutes\n",
    "\n",
    "## Part-2 targeted learning objectives\n",
    "Know how to\n",
    "- load a `.npz` into numpy ndarrays\n",
    "- process the temporal dataset to get a spectral dataset.\n",
    "- display a grid of spectra plots."
   ]
  },
  {
   "cell_type": "markdown",
   "id": "b99911e0",
   "metadata": {
    "tags": []
   },
   "source": [
    "<div class=\"alert alert-block alert-danger\">\n",
    "<span style=\"color:brown;font-family:arial;font-size:12pt\"> \n",
    "It is important to use a <span style=\"font-weight:bold;\">Python Virtual Environment</span> (PVE) for your Python projects: a PVE makes it possible to control for each project the versions of the Python interpreter and the \"sensitive\" modules (like tensorflow).\n",
    "    \n",
    "All the notebooks must be loaded in a `jupyter notebook` or `jupyter lab` launched within the <b><span style=\"color: rgb(100, 151, 202);\" >pyml</span></b> PVE specially created for the session.    \n",
    "</span></div>"
   ]
  },
  {
   "cell_type": "code",
   "execution_count": null,
   "id": "9b6c83c3",
   "metadata": {},
   "outputs": [],
   "source": [
    "import os, sys\n",
    "import scipy.io\n",
    "import numpy as np\n",
    "import matplotlib.pyplot as plt"
   ]
  },
  {
   "cell_type": "markdown",
   "id": "ceae1677",
   "metadata": {},
   "source": [
    "# 2 $-$ Load the *CWRU* data with the `.npz` numpy file"
   ]
  },
  {
   "cell_type": "markdown",
   "id": "24335688",
   "metadata": {},
   "source": [
    "Print the list of the `.npz` files in the current directory:"
   ]
  },
  {
   "cell_type": "code",
   "execution_count": null,
   "id": "927bb51e",
   "metadata": {},
   "outputs": [],
   "source": [
    "[ f for f in os.listdir() if f.endswith('.npz')]"
   ]
  },
  {
   "cell_type": "markdown",
   "id": "295798d0",
   "metadata": {},
   "source": [
    "`numpy.load` loads the wanted `.npz` file  and returns a dict object:"
   ]
  },
  {
   "cell_type": "code",
   "execution_count": null,
   "id": "e72e472a",
   "metadata": {},
   "outputs": [],
   "source": [
    "npzfile = np.load('CWRU_dadaset.npz')\n",
    "list(npzfile.keys())"
   ]
  },
  {
   "cell_type": "markdown",
   "id": "dbc71a5b",
   "metadata": {},
   "source": [
    "Thanks to the `value` method of the `dict` class, we can rename `A`, `B` and `C` the three `ndarray` objects of `npzfiles`:"
   ]
  },
  {
   "cell_type": "code",
   "execution_count": null,
   "id": "e2eb507c",
   "metadata": {},
   "outputs": [],
   "source": [
    "A, B, C = npzfile.values()"
   ]
  },
  {
   "cell_type": "markdown",
   "id": "7f9df5b6",
   "metadata": {},
   "source": [
    "Plot the data to verify (same Python instructions as the previous notebook, `1-load_CWRU_data.ipynb`, section 1.6):"
   ]
  },
  {
   "cell_type": "code",
   "execution_count": null,
   "id": "df789d04",
   "metadata": {},
   "outputs": [],
   "source": [
    "# create the list of the health condition labels:\n",
    "health_cond = ['N']\n",
    "for def_type in 'RF', 'IF', 'OF':\n",
    "    for size in '18', '36', '54':\n",
    "        health_cond.append(f\"{def_type}.{size}\")\n",
    "\n",
    "# define 'nb_HC', the number of health conditions:\n",
    "nb_HC = len(health_cond)\n",
    "\n",
    "# define 'nb_L', the number of load cases:\n",
    "full_dataset = (A, B, C)\n",
    "nb_load      = len(full_dataset)\n",
    "sample_num   = 0  # the sample number\n",
    "\n",
    "plt.rcParams['font.size'] = 6   # change the pyplot defaut font size\n",
    "fig, axes = plt.subplots(nb_HC, nb_load, sharex=True)\n",
    "fig.set_size_inches((8,12))\n",
    "plt.subplots_adjust(top=.95, wspace=0.25, hspace=0.5)\n",
    "plt.suptitle(f\"Temporal plots for the sample #{sample_num}\", fontsize=10)\n",
    "\n",
    "for n, dataset in enumerate(full_dataset):\n",
    "    for hc in range(nb_HC):\n",
    "        axe = axes[hc, n]\n",
    "        axe.set_title(f\"Load_{n+1} / health cond {health_cond[hc]}\", fontsize=8)\n",
    "        axe.plot(dataset[hc, sample_num], linewidth=0.4)\n",
    "        if hc == nb_HC-1: axe.set_xlabel(\"Rank\")\n",
    "\n",
    "plt.rcParams['font.size'] = 10  # restore the pyplot defaut font size to its defautl value"
   ]
  },
  {
   "cell_type": "markdown",
   "id": "01e433b0",
   "metadata": {},
   "source": [
    "# 3 $-$ Compute and plot the data in the spectral domain"
   ]
  },
  {
   "cell_type": "markdown",
   "id": "dd80f407",
   "metadata": {},
   "source": [
    "## 3.1 $-$ Transform the temporal dataset into a spectral dataset"
   ]
  },
  {
   "cell_type": "markdown",
   "id": "630b0545",
   "metadata": {},
   "source": [
    "Let's retrieve the shape of the array A (temporal data):"
   ]
  },
  {
   "cell_type": "code",
   "execution_count": null,
   "id": "d51ff9f3",
   "metadata": {},
   "outputs": [],
   "source": [
    "nb_HC, nb_sample, sample_size = A.shape\n",
    "print(f\"array A has <{nb_sample}> samples of <{sample_size}> data point for each of the <{nb_HC}> health conditions \")"
   ]
  },
  {
   "cell_type": "markdown",
   "id": "8e9a10fb",
   "metadata": {},
   "source": [
    "The spectra are computed with [numpy.fft.rfft](https://numpy.org/doc/stable/reference/generated/numpy.fft.rfft.html): on the web page, you can see that how to compute the size of the spectrum:"
   ]
  },
  {
   "cell_type": "code",
   "execution_count": null,
   "id": "55d65313",
   "metadata": {},
   "outputs": [],
   "source": [
    "if sample_size % 2 == 0:\n",
    "    spectrum_size = int(sample_size/2+1)\n",
    "else:\n",
    "    spectrum_size = int((sample_size+1)/2)\n",
    "print(f\"size of spectra: {spectrum_size}\")    "
   ]
  },
  {
   "cell_type": "markdown",
   "id": "73d6fa6f",
   "metadata": {},
   "source": [
    "Now let's define and dimension 3 ndarrays to store the spectra of the 3 temporal data arrays:"
   ]
  },
  {
   "cell_type": "code",
   "execution_count": null,
   "id": "f439247b",
   "metadata": {},
   "outputs": [],
   "source": [
    "A_spectrum = np.ndarray((nb_HC, nb_sample, spectrum_size), dtype=float)\n",
    "B_spectrum = np.ndarray((nb_HC, nb_sample, spectrum_size), dtype=float)\n",
    "C_spectrum = np.ndarray((nb_HC, nb_sample, spectrum_size), dtype=float)"
   ]
  },
  {
   "cell_type": "markdown",
   "id": "6ec3aaef",
   "metadata": {},
   "source": [
    "and let's compute the spectra with the `np.fft.rfft` function:"
   ]
  },
  {
   "cell_type": "code",
   "execution_count": null,
   "id": "508dd24b",
   "metadata": {},
   "outputs": [],
   "source": [
    "from numpy.fft import rfft\n",
    "for spectrum_array, temporal_array in zip((A_spectrum, B_spectrum, C_spectrum), (A, B, C)):\n",
    "    for hc in range(nb_HC):\n",
    "        for s in  range(nb_sample):\n",
    "            sample_spectrun = np.abs(rfft(temporal_array[hc, s]))   # we take the module of the Fourier spectrum\n",
    "            spectrum_array[hc, s] = sample_spectrun/sample_spectrun.max()  # normalize the spectum values in [0,1]"
   ]
  },
  {
   "cell_type": "markdown",
   "id": "6a1d27ad",
   "metadata": {},
   "source": [
    "Let's draw the spectra of the first sample:"
   ]
  },
  {
   "cell_type": "code",
   "execution_count": null,
   "id": "d3d77afd",
   "metadata": {},
   "outputs": [],
   "source": [
    "spectral_DATA = (A_spectrum, B_spectrum, C_spectrum)\n",
    "nb_load       = len(spectral_DATA)\n",
    "sample_num    = 0  # the sample number\n",
    "\n",
    "plt.rcParams['font.size'] = 6   # change the pyplot defaut font size\n",
    "fig, axes = plt.subplots(nb_HC, nb_load, sharex=True)\n",
    "fig.set_size_inches((8,12))\n",
    "plt.subplots_adjust(top=.95, wspace=0.25, hspace=0.5)\n",
    "plt.suptitle(f\"Plot of the spectra for the sample #{sample_num}\", fontsize=10)\n",
    "\n",
    "for n, spectral_dataset in enumerate(spectral_DATA):\n",
    "    for hc in range(nb_HC):\n",
    "        axe = axes[hc, n]\n",
    "        axe.set_title(f\"Load_{n+1} / health cond {health_cond[hc]}\", fontsize=8)\n",
    "        axe.plot(spectral_dataset[hc, sample_num], linewidth=0.4)\n",
    "        if hc == nb_HC-1: axe.set_xlabel(\"Frequency rank\")\n",
    "\n",
    "plt.rcParams['font.size'] = 10  # restore the pyplot defaut font size to its defautl value"
   ]
  },
  {
   "cell_type": "markdown",
   "id": "92d52834",
   "metadata": {},
   "source": [
    "## 3.2 $-$ About the spectra size"
   ]
  },
  {
   "cell_type": "markdown",
   "id": "84b6cd81",
   "metadata": {},
   "source": [
    "As you can see from the previous plot, the spectrum is significant only for low frequencies: we can truncate the spectra size without loosing pertinent information on the vibration footprint of the defect.<br>\n",
    "\n",
    "Hereafter we plot the spectra for sample #0 with only the first 400 spectral points:"
   ]
  },
  {
   "cell_type": "code",
   "execution_count": null,
   "id": "044b492b",
   "metadata": {},
   "outputs": [],
   "source": [
    "spectral_DATA = (A_spectrum, B_spectrum, C_spectrum)\n",
    "nb_load       = len(spectral_DATA)\n",
    "sample_num    = 0  # the sample number\n",
    "\n",
    "plt.rcParams['font.size'] = 6   # change the pyplot defaut font size\n",
    "fig, axes = plt.subplots(nb_HC, nb_load, sharex=True)\n",
    "fig.set_size_inches((8,12))\n",
    "plt.subplots_adjust(top=.95, wspace=0.25, hspace=0.5)\n",
    "plt.suptitle(f\"Spectra for the sample #{sample_num}\", fontsize=10)\n",
    "\n",
    "for n, dataset in enumerate(spectral_DATA):\n",
    "    for hc in range(nb_HC):\n",
    "        axe = axes[hc, n]\n",
    "        axe.set_title(f\"Load_{n+1} / health cond {health_cond[hc]}\", fontsize=8)\n",
    "        axe.plot(dataset[hc, sample_num, :400], linewidth=0.4)\n",
    "        if hc == nb_HC-1: axe.set_xlabel(\"Frequency rank\")\n",
    "            \n",
    "plt.rcParams['font.size'] = 10  # restore the pyplot defaut font size to its defautl value"
   ]
  },
  {
   "cell_type": "markdown",
   "id": "972b58e6",
   "metadata": {},
   "source": [
    "### Further work:\n",
    "\n",
    "In the next notebook (`3-Mini_poject.ipynb`), you will build a Dense Neural Network and train the network to classify the CWR dataset."
   ]
  },
  {
   "cell_type": "code",
   "execution_count": null,
   "id": "be01d165",
   "metadata": {},
   "outputs": [],
   "source": []
  }
 ],
 "metadata": {
  "kernelspec": {
   "display_name": "Python 3 (ipykernel)",
   "language": "python",
   "name": "python3"
  },
  "language_info": {
   "codemirror_mode": {
    "name": "ipython",
    "version": 3
   },
   "file_extension": ".py",
   "mimetype": "text/x-python",
   "name": "python",
   "nbconvert_exporter": "python",
   "pygments_lexer": "ipython3",
   "version": "3.8.18"
  }
 },
 "nbformat": 4,
 "nbformat_minor": 5
}
