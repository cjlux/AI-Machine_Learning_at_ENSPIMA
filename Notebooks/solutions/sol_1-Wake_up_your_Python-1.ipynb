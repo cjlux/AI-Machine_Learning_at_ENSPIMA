{
 "cells": [
  {
   "cell_type": "markdown",
   "id": "8af5fb8d",
   "metadata": {},
   "source": [
    "<span style=\"font-size:10pt\">AI-ML @ ENSPIMA / v1.3 september 2025 / Jean-Luc CHARLES (Jean-Luc.charles@mailo.com) / CC BY-SA 4.0 /</span>"
   ]
  },
  {
   "cell_type": "markdown",
   "id": "3265e7fa",
   "metadata": {},
   "source": [
    "<div class=\"alert alert-block alert-info\"> \n",
    "<span style=\"color: #0000BB;font-weight: bold; font-size:large;\">\n",
    "    Copy this notebook in the <i>Notebooks</i> directory if you want to use it...\n",
    "</span></div>"
   ]
  },
  {
   "cell_type": "markdown",
   "id": "681e7097",
   "metadata": {
    "tags": []
   },
   "source": [
    "# Wake up your Python! part 1\n",
    "<span style=\"font-size:large;\">\n",
    "1 - The range primitive<br>\n",
    "2 - The pythonic loop – Iterable objects<br>\n",
    "&emsp; The <span style=\"color:green\">enumerate</span> primitive<br>\n",
    "&emsp; The <span style=\"color:green\">zip</span> primitive<br>\n",
    "3 - Mutable/not mutable objects in Python<br>\n",
    "4 - The <span style=\"color:green\">list</span> type<br>\n",
    "&emsp; List comprehension<br>\n",
    "&emsp;  Slicing<br>\n",
    "5 - The <span style=\"color:green\">str</span> type<br>\n",
    "&emsp; f-string: formatted string<br>\n",
    "</span>"
   ]
  },
  {
   "cell_type": "markdown",
   "id": "6994afbb",
   "metadata": {},
   "source": [
    "<br>\n",
    "<div class=\"alert alert-block alert-danger\"> <span style=\"color:#000080\">\n",
    "<span style=\"font-weight: bold;font-size:large;\"> Before proceeding to the exercises:</span><br>\n",
    "<span style=\"font-size:large;\">\n",
    "- Read carefully all the explanations and execute the Python given cells with $\\mathtt{Shift+Enter}$.<br>\n",
    "- Note that the value of the last line of a Notebook cell is always displayed below the cell.\n",
    "</span></div>"
   ]
  },
  {
   "cell_type": "markdown",
   "id": "a3bac691",
   "metadata": {},
   "source": [
    "## 1 - The `range` class\n",
    "The `range` class is used to build **iterable objects** made up of a sequence of integers:\n",
    "\n",
    "`range(start, stop, step=1)` returns an **range** object ranging from `start` __inclusive__ to `stop` __exclusive__, in steps (integer) of `step`.<br> \n",
    "- If `step` is not given it defaults to 1.<br>\n",
    "- If only `stop` is given, the sequence starts at 0 and the step is 1.\n",
    "- If `step` is negative the sequence decreases from `start` to `stop` in steps (integer) of `step`."
   ]
  },
  {
   "cell_type": "code",
   "execution_count": 3,
   "id": "2e63ec02",
   "metadata": {},
   "outputs": [
    {
     "data": {
      "text/plain": [
       "range(1, 10)"
      ]
     },
     "execution_count": 3,
     "metadata": {},
     "output_type": "execute_result"
    }
   ],
   "source": [
    "range(1,10)"
   ]
  },
  {
   "cell_type": "markdown",
   "id": "d415ca19",
   "metadata": {},
   "source": [
    "If you want to display a range object as a list, just turn it into a **list**:"
   ]
  },
  {
   "cell_type": "code",
   "execution_count": 4,
   "id": "3339aedb-0341-4d14-ace6-7a995ba2a2e7",
   "metadata": {},
   "outputs": [
    {
     "data": {
      "text/plain": [
       "[0, 1, 2, 3, 4, 5, 6, 7, 8, 9]"
      ]
     },
     "execution_count": 4,
     "metadata": {},
     "output_type": "execute_result"
    }
   ],
   "source": [
    "list(range(10))"
   ]
  },
  {
   "cell_type": "code",
   "execution_count": 5,
   "id": "e0879826-d1c2-4b0c-bbf0-2a8e1cb74995",
   "metadata": {},
   "outputs": [
    {
     "data": {
      "text/plain": [
       "[10, 9, 8, 7, 6, 5, 4, 3, 2, 1]"
      ]
     },
     "execution_count": 5,
     "metadata": {},
     "output_type": "execute_result"
    }
   ],
   "source": [
    "list(range(10, 0, -1))"
   ]
  },
  {
   "cell_type": "markdown",
   "id": "00b888ab",
   "metadata": {},
   "source": [
    "You can get successively all the elements of the range with a simple Python loop (this is 90% of the use cases for `range`):"
   ]
  },
  {
   "cell_type": "code",
   "execution_count": 6,
   "id": "46e754e8",
   "metadata": {},
   "outputs": [
    {
     "name": "stdout",
     "output_type": "stream",
     "text": [
      "1\n",
      "2\n",
      "3\n",
      "4\n",
      "5\n",
      "6\n",
      "7\n",
      "8\n",
      "9\n"
     ]
    }
   ],
   "source": [
    "for i in range(1,10):\n",
    "    print(i)"
   ]
  },
  {
   "cell_type": "markdown",
   "id": "e947f536",
   "metadata": {},
   "source": [
    "<div class=\"alert alert-block alert-info\">\n",
    "<span style=\"color: #0000BB;font-weight: bold; font-size:large;\">Exercise 1</span>\n",
    "<div><span style=\"color: #0000BB\">\n",
    "    \n",
    "Using `print`, `list` and `range`, can you display as a list:\n",
    "- the integer numbers from 0 to 10 inclusive\n",
    "- the integer numbers from -1 to -5 inclusive\n",
    "- the first 5 even integers from 2 to 10 inclusive\n",
    "</span></div>"
   ]
  },
  {
   "cell_type": "code",
   "execution_count": 8,
   "id": "91ed358a",
   "metadata": {},
   "outputs": [
    {
     "name": "stdout",
     "output_type": "stream",
     "text": [
      "[0, 1, 2, 3, 4, 5, 6, 7, 8, 9, 10]\n"
     ]
    }
   ],
   "source": [
    "print(list(range(11)))"
   ]
  },
  {
   "cell_type": "code",
   "execution_count": 9,
   "id": "4ee3188d-3a15-46c3-9b94-604a917b390a",
   "metadata": {},
   "outputs": [
    {
     "name": "stdout",
     "output_type": "stream",
     "text": [
      "[-1, -2, -3, -4, -5]\n"
     ]
    }
   ],
   "source": [
    "print(list(range(-1, -6, -1)))"
   ]
  },
  {
   "cell_type": "code",
   "execution_count": 10,
   "id": "84b3713c-b699-4bc3-8de9-c9cb2d73125f",
   "metadata": {},
   "outputs": [
    {
     "name": "stdout",
     "output_type": "stream",
     "text": [
      "[2, 4, 6, 8, 10]\n"
     ]
    }
   ],
   "source": [
    "print(list(range(2,11,2)))"
   ]
  },
  {
   "cell_type": "markdown",
   "id": "31134928",
   "metadata": {},
   "source": [
    "## 2 - The pythonic loop – Iterable objects\n",
    "A Python **Iterable** is an object that you can iterate over with a simple loop. <br>\n",
    "The main iterable types are: \n",
    "<span style=\"color:green;font-weight:bold;font-family:arial\">list</span>,\n",
    "<span style=\"color:green;font-weight:bold;font-family:arial\">tuple</span> (readonly list),\n",
    "<span style=\"color:green;font-weight:bold;font-family:arial\">set</span>,\n",
    "<span style=\"color:green;font-weight:bold;font-family:arial\">str</span>,\n",
    "<span style=\"color:green;font-weight:bold;font-family:arial\">range</span>..."
   ]
  },
  {
   "cell_type": "markdown",
   "id": "d81f4851-0a4f-4372-99f6-52af40394681",
   "metadata": {},
   "source": [
    "**Pythonic loop iterating over a list:**"
   ]
  },
  {
   "cell_type": "code",
   "execution_count": 11,
   "id": "40055232",
   "metadata": {},
   "outputs": [
    {
     "name": "stdout",
     "output_type": "stream",
     "text": [
      "1\n",
      "2\n",
      "Hello\n",
      "['a', 'b', 'c', 'd']\n"
     ]
    }
   ],
   "source": [
    "for e in [1, 2, \"Hello\", [\"a\", \"b\", \"c\", \"d\"] ]:  # e iterates over each of the elements of the list\n",
    "    print(e)                                      # display e"
   ]
  },
  {
   "cell_type": "markdown",
   "id": "6ed9871a-3c6e-4547-b4ce-a05ecfa4d683",
   "metadata": {},
   "source": [
    "**Pythonic loop iterating over a tuple:**"
   ]
  },
  {
   "cell_type": "code",
   "execution_count": 12,
   "id": "76a99981-6d3a-419a-99fe-9e513ac68b63",
   "metadata": {},
   "outputs": [
    {
     "name": "stdout",
     "output_type": "stream",
     "text": [
      "Red\n",
      "Green\n",
      "Blue\n"
     ]
    }
   ],
   "source": [
    "colors = (\"Red\", \"Green\", \"Blue\")   # ( ... ) -> defines a tuple object\n",
    "for c in colors:\n",
    "    print(c)"
   ]
  },
  {
   "cell_type": "markdown",
   "id": "52f56b75-6039-424d-b01e-033ca6eb93fb",
   "metadata": {},
   "source": [
    "**Pythonic loop iterating over a string:**"
   ]
  },
  {
   "cell_type": "code",
   "execution_count": 13,
   "id": "45478f72-9ee2-4b69-9583-e984f8ca89c2",
   "metadata": {},
   "outputs": [
    {
     "name": "stdout",
     "output_type": "stream",
     "text": [
      "h\n",
      "e\n",
      "l\n",
      "l\n",
      "o\n"
     ]
    }
   ],
   "source": [
    "for c in \"hello\": # c iterates over all the letters of the string \"hello\"\n",
    "    print(c)      # display c"
   ]
  },
  {
   "cell_type": "markdown",
   "id": "ad2d28c7-ba0d-44d3-a8a7-c3f4c54a37b8",
   "metadata": {},
   "source": [
    "**Pythonic loop iterating over a range:**"
   ]
  },
  {
   "cell_type": "code",
   "execution_count": 14,
   "id": "7bba058e",
   "metadata": {},
   "outputs": [
    {
     "name": "stdout",
     "output_type": "stream",
     "text": [
      "0 -> 0\n",
      "1 -> 1\n",
      "2 -> 4\n",
      "3 -> 9\n",
      "4 -> 16\n"
     ]
    }
   ],
   "source": [
    "for e in range(5):         # Iterations: e is successvely 0, 1, 2, 3 and 4.\n",
    "    print(e, \"->\", e*e)    # prints the loop lap number followed by '->' and the value of e*e"
   ]
  },
  {
   "cell_type": "markdown",
   "id": "9824a663",
   "metadata": {},
   "source": [
    "<div class=\"alert alert-block alert-info\">\n",
    "<span style=\"color: #0000BB;font-weight: bold; font-size:large;\">Exercise 2.1 $-$ Simple loop over a list</span>\n",
    "<span style=\"color: #0000BB\">\n",
    "    \n",
    "- Define the list of strings: `L1 = [\"data1.txt\", \"data2.txt\", \"data3.txt\", \"data4.txt\"]`.<br>\n",
    "- Define the empty list `L2`.<br>\n",
    "- With a loop on `L1`, append at the end of `L2` the current element of `L1` with the suffix `\".txt\"` replaced by `\".png\"`.<br>\n",
    "    tips: $\\leadsto$ `L2.append(item)` appends the object `item` to the list `L2`.<br>\n",
    "    $\\phantom{--}\\leadsto$ See this [W3schools: String replace() Method](https://www.w3schools.com/python/ref_string_replace.asp) for a short documentation on the `replace` method of the class `str`.\n",
    "- Display `L2`.\n",
    "</span></div>"
   ]
  },
  {
   "cell_type": "code",
   "execution_count": 15,
   "id": "55e9d9ab",
   "metadata": {},
   "outputs": [
    {
     "data": {
      "text/plain": [
       "['data1.png', 'data2.png', 'data3.png', 'data4.png']"
      ]
     },
     "execution_count": 15,
     "metadata": {},
     "output_type": "execute_result"
    }
   ],
   "source": [
    "L1 = [\"data1.txt\", \"data2.txt\", \"data3.txt\", \"data4.txt\"]\n",
    "L2 = []\n",
    "for e in L1:\n",
    "    L2.append(e.replace('.txt', '.png'))\n",
    "L2"
   ]
  },
  {
   "cell_type": "markdown",
   "id": "985eb0a1",
   "metadata": {},
   "source": [
    "<div class=\"alert alert-block alert-info\">\n",
    "<span style=\"color: #0000BB\">\n",
    "    \n",
    "- Traverse `L1` backwards with a `for` loop and print the current term at each lap of the loop.<br>\n",
    "    $\\leadsto$ Tips: try to display `L1[::-1]` ...\n",
    "</span></div>"
   ]
  },
  {
   "cell_type": "code",
   "execution_count": 16,
   "id": "0daa044e",
   "metadata": {},
   "outputs": [
    {
     "data": {
      "text/plain": [
       "['data4.txt', 'data3.txt', 'data2.txt', 'data1.txt']"
      ]
     },
     "execution_count": 16,
     "metadata": {},
     "output_type": "execute_result"
    }
   ],
   "source": [
    "L1[::-1]"
   ]
  },
  {
   "cell_type": "code",
   "execution_count": 17,
   "id": "cc15b78c",
   "metadata": {},
   "outputs": [
    {
     "name": "stdout",
     "output_type": "stream",
     "text": [
      "data4.txt\n",
      "data3.txt\n",
      "data2.txt\n",
      "data1.txt\n"
     ]
    }
   ],
   "source": [
    "for e in L1[::-1]:\n",
    "    print(e)"
   ]
  },
  {
   "cell_type": "markdown",
   "id": "51066dd1",
   "metadata": {},
   "source": [
    "<div class=\"alert alert-block alert-info\">\n",
    "<span style=\"color: #0000BB\">\n",
    "    \n",
    "- Define `L3` by traversing `L1` backwards and adding to `L3` the current term of `L1` without its \".txt\" suffixe.<br>\n",
    "- Display `L3`.\n",
    "</span></div>"
   ]
  },
  {
   "cell_type": "code",
   "execution_count": 18,
   "id": "c5841451",
   "metadata": {},
   "outputs": [
    {
     "name": "stdout",
     "output_type": "stream",
     "text": [
      "L3: ['data4', 'data3', 'data2', 'data1']\n"
     ]
    }
   ],
   "source": [
    "L3 = []\n",
    "for e in L1[::-1]:\n",
    "    L3.append(e.replace(\".txt\",\"\"))\n",
    "print(\"L3:\", L3)"
   ]
  },
  {
   "cell_type": "markdown",
   "id": "99439267",
   "metadata": {
    "tags": []
   },
   "source": [
    "### ▸ The `enumerate` primitive"
   ]
  },
  {
   "cell_type": "markdown",
   "id": "a122746f-1dc4-4570-8726-d26e1583b2e5",
   "metadata": {},
   "source": [
    "With the `enumerate` function you can loop over an iterable and get a pair (loop_number, item) at each loop lap.<br>\n",
    "It is often used to get the loop lap number."
   ]
  },
  {
   "cell_type": "code",
   "execution_count": 19,
   "id": "d80127b5",
   "metadata": {},
   "outputs": [
    {
     "name": "stdout",
     "output_type": "stream",
     "text": [
      "0 -> H\n",
      "1 -> e\n",
      "2 -> l\n",
      "3 -> l\n",
      "4 -> o\n"
     ]
    }
   ],
   "source": [
    "for i,character in enumerate(\"Hello\"):\n",
    "    print(i, \"->\", character)"
   ]
  },
  {
   "cell_type": "markdown",
   "id": "888f7d6d",
   "metadata": {},
   "source": [
    "<div class=\"alert alert-block alert-info\">\n",
    "<span style=\"color: #0000BB;font-weight: bold; font-size:large;\">Exercise 2.2 $-$ Enumerated  traversal of an iterable.</span>\n",
    "<span style=\"color: #0000BB\">\n",
    "\n",
    "With the list `L1` from the previous exercise:<br>\n",
    "- Using the primitive <span style=\"color:green;font-family:arial\">enumerate</span>, loop over `L1` with the couple `n,e`: display at each loop lap the lap number (`n`) and the current element of `L1` (`e`).<br>\n",
    "- Find two different ways to display the loop lap number starting at 100.\n",
    "</span></div>"
   ]
  },
  {
   "cell_type": "code",
   "execution_count": 20,
   "id": "514f43e6-8037-40d4-9bd8-ace6d68caf19",
   "metadata": {},
   "outputs": [
    {
     "name": "stdout",
     "output_type": "stream",
     "text": [
      "0 data1.txt\n",
      "1 data2.txt\n",
      "2 data3.txt\n",
      "3 data4.txt\n"
     ]
    }
   ],
   "source": [
    "for n,e in enumerate(L1):\n",
    "    print(n, e)"
   ]
  },
  {
   "cell_type": "code",
   "execution_count": 21,
   "id": "e51a73cc",
   "metadata": {},
   "outputs": [
    {
     "name": "stdout",
     "output_type": "stream",
     "text": [
      "100 data1.txt\n",
      "101 data2.txt\n",
      "102 data3.txt\n",
      "103 data4.txt\n"
     ]
    }
   ],
   "source": [
    "for n,e in enumerate(L1, 100):\n",
    "    print(n, e)"
   ]
  },
  {
   "cell_type": "code",
   "execution_count": 22,
   "id": "69e5da7c",
   "metadata": {},
   "outputs": [
    {
     "name": "stdout",
     "output_type": "stream",
     "text": [
      "100 data1.txt\n",
      "101 data2.txt\n",
      "102 data3.txt\n",
      "103 data4.txt\n"
     ]
    }
   ],
   "source": [
    "for n,e in enumerate(L1):\n",
    "    print(n+100, e)"
   ]
  },
  {
   "cell_type": "markdown",
   "id": "98590d79",
   "metadata": {
    "tags": []
   },
   "source": [
    "### ▸ The `zip` primitive"
   ]
  },
  {
   "cell_type": "markdown",
   "id": "2b48fa7a-d093-4987-8767-5a85deade2f5",
   "metadata": {},
   "source": [
    "With the `zip` function you can loop over many iterables at the same time :"
   ]
  },
  {
   "cell_type": "code",
   "execution_count": null,
   "id": "4483e78b-9266-49d8-ad97-372a4d6dfca9",
   "metadata": {},
   "outputs": [],
   "source": [
    "labels = [\"length\", \"diameter\", \"mass\"]\n",
    "values = [10, 0.1, 1.1e2]\n",
    "units  = ('mm', 'mm', 'kg', 'A')\n",
    "\n",
    "for lab, val, u in zip(labels, values, units):\n",
    "    print(\"value of parameter\", lab, \"is:\", val, u)"
   ]
  },
  {
   "cell_type": "markdown",
   "id": "c8c3db58",
   "metadata": {},
   "source": [
    "<div class=\"alert alert-block alert-info\">\n",
    "<span style=\"color: #0000BB;font-weight: bold; font-size:large;\">Exercise 2.2 $–$ <span style=\"color:green\">zip</span> primitive</span>\n",
    "<span style=\"color: #0000BB\">    \n",
    "    \n",
    "- Define `R` as `range(5,-6,-2)` and display `R` as a list.\n",
    "- Using the <span style=\"color:green\">zip</span> primitive, simultaneously loop over `R` and `L1` with the pair of names `n, e` and display at each loop lap the value of `n` followed by `\":\"` then the value of `e`.\n",
    "</span></div>"
   ]
  },
  {
   "cell_type": "code",
   "execution_count": 23,
   "id": "2ecb386a",
   "metadata": {},
   "outputs": [
    {
     "name": "stdout",
     "output_type": "stream",
     "text": [
      "[5, 3, 1, -1, -3, -5]\n"
     ]
    }
   ],
   "source": [
    "R = range(5, -6, -2)\n",
    "print(list(R))"
   ]
  },
  {
   "cell_type": "code",
   "execution_count": 24,
   "id": "f0cb20ba",
   "metadata": {},
   "outputs": [
    {
     "name": "stdout",
     "output_type": "stream",
     "text": [
      "5 : data1.txt\n",
      "3 : data2.txt\n",
      "1 : data3.txt\n",
      "-1 : data4.txt\n"
     ]
    }
   ],
   "source": [
    "for n,e in zip(R, L1):\n",
    "    print(n, \":\", e)"
   ]
  },
  {
   "cell_type": "markdown",
   "id": "a498069e",
   "metadata": {},
   "source": [
    "## 3 - `Mutable/immutable` objects in Python\n",
    "\n",
    "Python **mutable objects** are instances of classes that can be modified using the methods\n",
    "classes or language operator.\n",
    "\n",
    "Most methods that modify a mutable object return **nothing** because the modification is done\n",
    "*in place* on the object data.<br>\n",
    "\n",
    "$\\leadsto$ An important consequence is that if you write\n",
    "<span style=\"color:#9f1f0f\">X = mutableobject.method(...)</span>,\n",
    "where \n",
    "<span style=\"color:#9f1f0f\">method</span> \n",
    "modifies\n",
    "<span style=\"color:#9f1f0f\">mutableobject</span>\n",
    ", you just get a \n",
    "<span style=\"color:#9f1f0f\">None</span> \n",
    "for \n",
    "<span style=\"color:#9f1f0f\">X</span> \n",
    "because \n",
    "<span style=\"color:#9f1f0f\">method</span> \n",
    "returns nothing  !!\n",
    "\n",
    "- The main mutable objects are **lists**\n",
    "(class <span style=\"color:green\">list</span>), **dictionaries**\n",
    "(class <span style=\"color:green\">dict</span>) and optionally\n",
    "**user-defined classes**.\n",
    "- Most **base types** are **not mutable** like\n",
    "<span style=\"color:green\">int</span>,\n",
    "<span style=\"color:green\">float</span>,\n",
    "<span style=\"color:green\">complex</span>,\n",
    "<span style=\"color:green\">str</span>,\n",
    "<span style=\"color:green\">bool</span>... as well as the type\n",
    "<span style=\"color:green\">tuple</span>\n",
    "(this is what differentiates it from the <span style=\"color:green\">list</span> type)."
   ]
  },
  {
   "cell_type": "markdown",
   "id": "c74086ee",
   "metadata": {},
   "source": [
    " **<span style=\"color:#0060B0\"> $\\leadsto$ A string is not mutable: </span>**"
   ]
  },
  {
   "cell_type": "code",
   "execution_count": 25,
   "id": "b8ea3c8c",
   "metadata": {},
   "outputs": [
    {
     "name": "stdout",
     "output_type": "stream",
     "text": [
      "a: hello ,b: Hello\n"
     ]
    }
   ],
   "source": [
    "a = \"hello\"               # string -> not mutable!\n",
    "b = a.replace(\"h\",\"H\")    # a.replace(...) returns a modified copy of the string a\n",
    "print('a:', a, ',b:', b)  # a has not changed"
   ]
  },
  {
   "cell_type": "markdown",
   "id": "dfc227db-2261-4417-8bdb-a81f1a594e41",
   "metadata": {},
   "source": [
    "<br>**tips & tricks**: Display an objects value with <span style=\"color:#008000\">f-string</span>:"
   ]
  },
  {
   "cell_type": "code",
   "execution_count": 26,
   "id": "50f84685-da77-4735-910a-732d377d6af5",
   "metadata": {},
   "outputs": [
    {
     "name": "stdout",
     "output_type": "stream",
     "text": [
      "a='hello', b='Hello'\n"
     ]
    }
   ],
   "source": [
    "print(f\"{a=}, {b=}\")"
   ]
  },
  {
   "cell_type": "markdown",
   "id": "a6470abe",
   "metadata": {},
   "source": [
    "**<span style=\"color:#0060B0\"> $\\leadsto$ A list is mutable: the `sort` method operates on the data of the list and returns <span style=\"color:#9f1f0f\">None</span></span>**"
   ]
  },
  {
   "cell_type": "code",
   "execution_count": 32,
   "id": "5427d582",
   "metadata": {},
   "outputs": [
    {
     "data": {
      "text/plain": [
       "[5, 4, 3, 2, 1, 0]"
      ]
     },
     "execution_count": 32,
     "metadata": {},
     "output_type": "execute_result"
    }
   ],
   "source": [
    "L = list(range(5,-1,-1))\n",
    "L"
   ]
  },
  {
   "cell_type": "code",
   "execution_count": 33,
   "id": "3ec3a138",
   "metadata": {},
   "outputs": [
    {
     "data": {
      "text/plain": [
       "[0, 1, 2, 3, 4, 5]"
      ]
     },
     "execution_count": 33,
     "metadata": {},
     "output_type": "execute_result"
    }
   ],
   "source": [
    "L.sort()\n",
    "L"
   ]
  },
  {
   "cell_type": "markdown",
   "id": "abc6b053",
   "metadata": {},
   "source": [
    "<br>**<span style=\"color:#800000\">Error to avoid: </span>**"
   ]
  },
  {
   "cell_type": "code",
   "execution_count": 34,
   "id": "5d391cff",
   "metadata": {},
   "outputs": [
    {
     "name": "stdout",
     "output_type": "stream",
     "text": [
      "None\n"
     ]
    }
   ],
   "source": [
    "L = L.sort()  \n",
    "print(L)      # L is lost because 'sort' returns nothing !!!!"
   ]
  },
  {
   "cell_type": "markdown",
   "id": "84208764",
   "metadata": {},
   "source": [
    "## 4 - The `list` type"
   ]
  },
  {
   "cell_type": "markdown",
   "id": "17b2ca64-3a33-4f91-a015-4b03ed48f7f0",
   "metadata": {},
   "source": [
    "A `list` is a sequence of (heterogeneous) objects. It can be simply created with the syntaxe: `[item1, item2, ...]`"
   ]
  },
  {
   "cell_type": "code",
   "execution_count": 35,
   "id": "321d0f61-cb18-427e-8870-6dede8c683d7",
   "metadata": {},
   "outputs": [
    {
     "data": {
      "text/plain": [
       "[10, 'Hello', (10, 11, 12), 123.0]"
      ]
     },
     "execution_count": 35,
     "metadata": {},
     "output_type": "execute_result"
    }
   ],
   "source": [
    "L = [10, \"Hello\", (10,11,12), 1.23e2]\n",
    "L"
   ]
  },
  {
   "cell_type": "markdown",
   "id": "788242f0-41c9-4cc2-b91b-c9528c5e23ff",
   "metadata": {},
   "source": [
    "The `list` class offers many useful methods: see [w3scholl:  List Methods\n",
    "](https://www.w3schools.com/python/python_lists_methods.asp)."
   ]
  },
  {
   "cell_type": "markdown",
   "id": "b38bc777-9dc7-40b8-ba0a-4f78a3c7e6dd",
   "metadata": {},
   "source": [
    "**tips & tricks**<br> With the Python `dir` primitive, you can display the attributes (data) and methods (functions) of any type (class) or object:"
   ]
  },
  {
   "cell_type": "code",
   "execution_count": 36,
   "id": "35f67ea8-723e-4bdf-ae89-13226f4fe0a5",
   "metadata": {},
   "outputs": [
    {
     "name": "stdout",
     "output_type": "stream",
     "text": [
      "['__add__', '__class__', '__class_getitem__', '__contains__', '__delattr__', '__delitem__', '__dir__', '__doc__', '__eq__', '__format__', '__ge__', '__getattribute__', '__getitem__', '__getstate__', '__gt__', '__hash__', '__iadd__', '__imul__', '__init__', '__init_subclass__', '__iter__', '__le__', '__len__', '__lt__', '__mul__', '__ne__', '__new__', '__reduce__', '__reduce_ex__', '__repr__', '__reversed__', '__rmul__', '__setattr__', '__setitem__', '__sizeof__', '__str__', '__subclasshook__', 'append', 'clear', 'copy', 'count', 'extend', 'index', 'insert', 'pop', 'remove', 'reverse', 'sort']\n"
     ]
    }
   ],
   "source": [
    "print(dir(list))"
   ]
  },
  {
   "cell_type": "markdown",
   "id": "7aedd1bc",
   "metadata": {},
   "source": [
    "<br><div class=\"alert alert-block alert-info\">\n",
    "<span style=\"color: #0000BB;font-weight: bold; font-size:large;\">Exercise 4.1</span>\n",
    "<span style=\"color: #0000BB\">\n",
    "\n",
    "\n",
    "- Using the <span style=\"color:green\">randint</span> function of the <span style=\"color:green\">random</span> module\n",
    "    and the <span style=\"color:green\">append</span> method of the <span style=\"color:green\">list</span> class, create\n",
    "`LA`, a list of 10 random integer between 0 and 30.<br>\n",
    "(see [w3schools: Random randint method](https://www.w3schools.com/python/ref_random_randint.asp), or the inline help\n",
    "by typing <tt><span style=\"color:green\">help(\"random.randint\")</span></tt> in a cell).<br>\n",
    "- Arrange the elements of `LA` in ascending order then display `LA`.\n",
    "- Now sort the elements of `LA`  in descending order then display `LA` (see [w3schools: list.sort](https://www.w3schools.com/python/ref_list_sort.asp) for the `sort` method of the `list` class).\n",
    "</span></div>"
   ]
  },
  {
   "cell_type": "code",
   "execution_count": 37,
   "id": "ac1e373d-80d8-471b-80e8-3e159aebd93d",
   "metadata": {},
   "outputs": [
    {
     "name": "stdout",
     "output_type": "stream",
     "text": [
      "Help on method randint in random:\n",
      "\n",
      "random.randint = randint(a, b) method of random.Random instance\n",
      "    Return random integer in range [a, b], including both end points.\n",
      "\n"
     ]
    }
   ],
   "source": [
    "help(\"random.randint\")"
   ]
  },
  {
   "cell_type": "code",
   "execution_count": 38,
   "id": "397144ed",
   "metadata": {},
   "outputs": [
    {
     "name": "stdout",
     "output_type": "stream",
     "text": [
      "[15, 13, 4, 14, 27, 5, 16, 15, 26, 14]\n"
     ]
    }
   ],
   "source": [
    "from random import randint\n",
    "LA = []\n",
    "for i in range(10):\n",
    "    LA.append(randint(0,30))\n",
    "print(LA)    "
   ]
  },
  {
   "cell_type": "code",
   "execution_count": 39,
   "id": "a04c97c9",
   "metadata": {},
   "outputs": [
    {
     "data": {
      "text/plain": [
       "[4, 5, 13, 14, 14, 15, 15, 16, 26, 27]"
      ]
     },
     "execution_count": 39,
     "metadata": {},
     "output_type": "execute_result"
    }
   ],
   "source": [
    "LA.sort()\n",
    "LA"
   ]
  },
  {
   "cell_type": "code",
   "execution_count": 40,
   "id": "4f106c68",
   "metadata": {},
   "outputs": [
    {
     "data": {
      "text/plain": [
       "[27, 26, 16, 15, 15, 14, 14, 13, 5, 4]"
      ]
     },
     "execution_count": 40,
     "metadata": {},
     "output_type": "execute_result"
    }
   ],
   "source": [
    "LA.sort(reverse=True)\n",
    "LA"
   ]
  },
  {
   "cell_type": "markdown",
   "id": "c70e81a2",
   "metadata": {},
   "source": [
    "### ▸ List comprehension\n",
    "\n",
    "A **list comprehension** is a list including a **a loop** in its definition:<br>\n",
    "`L = [ <expression> for <item> in <iterable> ]`.<br>\n",
    "You can also incorporate a filter like:<br>\n",
    "`[ <expression> for <item> in <iterable> if <condition> ]`."
   ]
  },
  {
   "cell_type": "code",
   "execution_count": null,
   "id": "d6d02c22",
   "metadata": {},
   "outputs": [],
   "source": [
    "# Examples:\n",
    "L1 = [\"data\" + str(i) + \".txt\" for i in range(1, 5)]\n",
    "L1"
   ]
  },
  {
   "cell_type": "code",
   "execution_count": null,
   "id": "3090a48f",
   "metadata": {},
   "outputs": [],
   "source": [
    "# Examples:\n",
    "L2 = [x for x in range(1, 30) if x % 3 == 0]\n",
    "L2"
   ]
  },
  {
   "cell_type": "markdown",
   "id": "3973b031",
   "metadata": {},
   "source": [
    "<div class=\"alert alert-block alert-info\">\n",
    "<span style=\"color: #0000BB;font-weight: bold; font-size:large;\">Exercise 4.2 $-$ List comprehension</span>\n",
    "<span style=\"color: #0000BB\">\n",
    "\n",
    "- Redefine in comprehension the `LA` list of the previous exercise.\n",
    "- Define and display the list comprehension `LS` of the squares of the elements of `LA`.\n",
    "- Define and display the list comprehension `LE` of the even elements of `LA`.\n",
    "- Define and display the list comprehension `LO` of squares of the odd elements of `LA`.\n",
    "</span></div>"
   ]
  },
  {
   "cell_type": "code",
   "execution_count": 41,
   "id": "b1238c82",
   "metadata": {},
   "outputs": [
    {
     "data": {
      "text/plain": [
       "[22, 1, 29, 30, 19, 5, 22, 13, 16, 8]"
      ]
     },
     "execution_count": 41,
     "metadata": {},
     "output_type": "execute_result"
    }
   ],
   "source": [
    "LA = [randint(0,30) for i in range(10)]; LA"
   ]
  },
  {
   "cell_type": "code",
   "execution_count": 42,
   "id": "f8ba1be5",
   "metadata": {},
   "outputs": [
    {
     "data": {
      "text/plain": [
       "[484, 1, 841, 900, 361, 25, 484, 169, 256, 64]"
      ]
     },
     "execution_count": 42,
     "metadata": {},
     "output_type": "execute_result"
    }
   ],
   "source": [
    "LS = [e*e for e in LA]; LS"
   ]
  },
  {
   "cell_type": "code",
   "execution_count": 43,
   "id": "7b759861",
   "metadata": {},
   "outputs": [
    {
     "data": {
      "text/plain": [
       "[22, 30, 22, 16, 8]"
      ]
     },
     "execution_count": 43,
     "metadata": {},
     "output_type": "execute_result"
    }
   ],
   "source": [
    "LE = [e for e in LA if e % 2 == 0]; LE"
   ]
  },
  {
   "cell_type": "code",
   "execution_count": 44,
   "id": "fa3dea9b",
   "metadata": {},
   "outputs": [
    {
     "data": {
      "text/plain": [
       "[1, 841, 361, 25, 169]"
      ]
     },
     "execution_count": 44,
     "metadata": {},
     "output_type": "execute_result"
    }
   ],
   "source": [
    "LO = [e*e for e in LA if e % 2 == 1]; LO"
   ]
  },
  {
   "cell_type": "markdown",
   "id": "a9f65717",
   "metadata": {},
   "source": [
    "### ▸ List slicing\n",
    "The **slicing** allows you to extract part of a list: **It's a technique that absolutely must be mastered.**.\n",
    "\n",
    "<span style=\"color: #0000BB;font-weight: bold; font-size:large;\">The slicing also applies to any Python sequence object (strings, tuples...) and multidimensional arrays (like numpy.ndarray).</span><br />\n",
    "\n",
    "The syntax with a list `L` is:<br>\n",
    " &emsp;&emsp;`L[<start>:<stop_exclusive>:<step>]`<br><br>\n",
    "or, if the step is 1: <br>\n",
    " &emsp;&emsp;`L[<start>:<stop_exclusive>]`<br>\n",
    "\n",
    "Using negative indices allows the list to be traversed in the opposite direction.\n",
    "\n",
    "<img src=\"img/slicing.png\" style=\"height:300px;width:400px\" align=\"middle\"/>"
   ]
  },
  {
   "cell_type": "markdown",
   "id": "48f35862",
   "metadata": {},
   "source": [
    "<br><div class=\"alert alert-block alert-info\">\n",
    "<span style=\"color: #0000BB;font-weight: bold; font-size:large;\">Exercise 4.3 $-$ List slicing</span>\n",
    "<span style=\"color: #0000BB\">\n",
    "\n",
    "- Define and display `LC`, the list of integers from -10 to 10.\n",
    "- Extract and display the first 3 elements of `LC`.\n",
    "- Extract and display the last 4 elements of `LC`.\n",
    "- Define and display `LC1`, the sub-list of `LC` from third element to 5th element included.\n",
    "</span></div>"
   ]
  },
  {
   "cell_type": "code",
   "execution_count": 45,
   "id": "d020264d",
   "metadata": {},
   "outputs": [
    {
     "data": {
      "text/plain": [
       "[-10, -9, -8, -7, -6, -5, -4, -3, -2, -1, 0, 1, 2, 3, 4, 5, 6, 7, 8, 9, 10]"
      ]
     },
     "execution_count": 45,
     "metadata": {},
     "output_type": "execute_result"
    }
   ],
   "source": [
    "LC = list(range(-10,11)); LC"
   ]
  },
  {
   "cell_type": "code",
   "execution_count": 46,
   "id": "620329e8",
   "metadata": {},
   "outputs": [
    {
     "data": {
      "text/plain": [
       "[-10, -9, -8]"
      ]
     },
     "execution_count": 46,
     "metadata": {},
     "output_type": "execute_result"
    }
   ],
   "source": [
    "LC[:3]"
   ]
  },
  {
   "cell_type": "code",
   "execution_count": 47,
   "id": "3c87a7e9",
   "metadata": {},
   "outputs": [
    {
     "data": {
      "text/plain": [
       "[7, 8, 9, 10]"
      ]
     },
     "execution_count": 47,
     "metadata": {},
     "output_type": "execute_result"
    }
   ],
   "source": [
    "LC[-4:]"
   ]
  },
  {
   "cell_type": "code",
   "execution_count": 48,
   "id": "b92cf10f",
   "metadata": {},
   "outputs": [
    {
     "data": {
      "text/plain": [
       "[-8, -7, -6]"
      ]
     },
     "execution_count": 48,
     "metadata": {},
     "output_type": "execute_result"
    }
   ],
   "source": [
    "LC1 = LC[2:5]\n",
    "LC1"
   ]
  },
  {
   "cell_type": "markdown",
   "id": "fbd41f51",
   "metadata": {},
   "source": [
    "## 5 - The `str` type"
   ]
  },
  {
   "cell_type": "markdown",
   "id": "8a208549",
   "metadata": {},
   "source": [
    "The Python `str` class offers many usefull methods (see [W3schools: Python String Methods](https://www.w3schools.com/python/python_ref_string.asp)):"
   ]
  },
  {
   "cell_type": "code",
   "execution_count": 50,
   "id": "5fb9faec",
   "metadata": {},
   "outputs": [
    {
     "name": "stdout",
     "output_type": "stream",
     "text": [
      "['capitalize', 'casefold', 'center', 'count', 'encode', 'endswith', 'expandtabs', 'find', 'format', 'format_map', 'index', 'isalnum', 'isalpha', 'isascii', 'isdecimal', 'isdigit', 'isidentifier', 'islower', 'isnumeric', 'isprintable', 'isspace', 'istitle', 'isupper', 'join', 'ljust', 'lower', 'lstrip', 'maketrans', 'partition', 'removeprefix', 'removesuffix', 'replace', 'rfind', 'rindex', 'rjust', 'rpartition', 'rsplit', 'rstrip', 'split', 'splitlines', 'startswith', 'strip', 'swapcase', 'title', 'translate', 'upper', 'zfill']\n"
     ]
    }
   ],
   "source": [
    "print([item for item in dir(str) if not item.startswith(\"__\")])"
   ]
  },
  {
   "cell_type": "markdown",
   "id": "54ed8be1-5f23-4108-991b-111d4deb2094",
   "metadata": {},
   "source": [
    "<br>$\\leadsto$ Remember that `str` is a **non mutable** type: all the methods of this class return a **copy** of the string modified by the method."
   ]
  },
  {
   "cell_type": "markdown",
   "id": "042b98d2",
   "metadata": {},
   "source": [
    "<br><div class=\"alert alert-block alert-info\">\n",
    "<span style=\"color: #0000BB;font-weight: bold; font-size:large;\">Exercise 5.1</span>\n",
    "<span style=\"color: #0000BB\">\n",
    "    \n",
    "- See the page on the `replace` method of the `str` class on [W3schools: Python String Methods](https://www.w3schools.com/python/python_ref_string.asp).\n",
    "- Define and display the string `S1` containing `\"Hello friends!\"`.\n",
    "- Define and display the string `S2` equal to S1 in upper case.\n",
    "- Define and display the string `S3` obtained by replacing in S1 `Hello` by `Goodbye`.\n",
    "- Verify that `S1` has not been modified...      \n",
    "</span></div>"
   ]
  },
  {
   "cell_type": "code",
   "execution_count": 53,
   "id": "a2263720",
   "metadata": {},
   "outputs": [
    {
     "name": "stdout",
     "output_type": "stream",
     "text": [
      "S1='Hello friends!'\n",
      "S2='HELLO FRIENDS!'\n",
      "S3='Goodbye friends!'\n",
      "S1='Hello friends!'\n"
     ]
    }
   ],
   "source": [
    "S1 = \"Hello friends!\"\n",
    "print(f'{S1=}')\n",
    "S2 = S1.upper()\n",
    "print(f'{S2=}')\n",
    "S3 = S1.replace('Hello', 'Goodbye')\n",
    "print(f'{S3=}')\n",
    "print(f'{S1=}')"
   ]
  },
  {
   "cell_type": "markdown",
   "id": "ef619f61",
   "metadata": {},
   "source": [
    "<div class=\"alert alert-block alert-info\">\n",
    "<span style=\"color: #0000BB;font-weight: bold; font-size:large;\">Exercise 5.2</span>\n",
    "<span style=\"color: #0000BB\">\n",
    "        \n",
    "- Define `fileName` as the string `\"data1.txt\"`.\n",
    "- Using the `replace` method applied to `fileName`, define `imageName` by replacing `\".txt\"` by `\".png\"` in `fileName`\n",
    "- Display `fileName` and `imageName`.\n",
    "</span></div>"
   ]
  },
  {
   "cell_type": "code",
   "execution_count": 55,
   "id": "30d71038",
   "metadata": {},
   "outputs": [
    {
     "data": {
      "text/plain": [
       "\"fileName='data1.txt', imageName='data1.png'\""
      ]
     },
     "execution_count": 55,
     "metadata": {},
     "output_type": "execute_result"
    }
   ],
   "source": [
    "fileName = \"data1.txt\"\n",
    "imageName = fileName.replace(\".txt\", \".png\")\n",
    "f\"{fileName=}, {imageName=}\""
   ]
  },
  {
   "cell_type": "markdown",
   "id": "86b7ea52",
   "metadata": {},
   "source": [
    "<div class=\"alert alert-block alert-info\">\n",
    "<span style=\"color: #0000BB;font-weight: bold; font-size:large;\">Exercise 5.3 Palindrome</span>\n",
    "<span style=\"color: #0000BB\">\n",
    "  \n",
    "- Define `S` as the string `\"A man, a plan, a canal -- Panama!\"`.\n",
    "- Define `s` as `S` converted to lower case.\n",
    "- Verify that `s` is a *palindrome*  : ignoring comas, spaces, dashes, exclamation marks... reading it from left to right and from right to left gives the same characters.\n",
    "</span></div>"
   ]
  },
  {
   "cell_type": "code",
   "execution_count": 56,
   "id": "2b5c881e",
   "metadata": {},
   "outputs": [
    {
     "name": "stdout",
     "output_type": "stream",
     "text": [
      "s == s[::-1] is True\n"
     ]
    }
   ],
   "source": [
    "S = 'A man, a plan, a canal -- Panama!'\n",
    "s = S.lower()\n",
    "s = s.replace(\" \", \"\").replace(\"-\", \"\").replace(\"!\", \"\").replace(\",\", \"\")\n",
    "is_a_palindrome = s == s[::-1]\n",
    "print(f\"s == s[::-1] is {is_a_palindrome}\")"
   ]
  },
  {
   "cell_type": "markdown",
   "id": "62d1e7c7",
   "metadata": {},
   "source": [
    "### ▸ f-string: formatted string\n",
    "\n",
    "The syntaxe `f\".....\"` defines a formatted string. Take a look at some formatting examples below:"
   ]
  },
  {
   "cell_type": "code",
   "execution_count": 57,
   "id": "f0fb834c",
   "metadata": {},
   "outputs": [
    {
     "name": "stdout",
     "output_type": "stream",
     "text": [
      "Amount due: 123.4567 €\n"
     ]
    }
   ],
   "source": [
    "amount = 123.4567\n",
    "message = f\"Amount due: {amount} €\" # Python looks for the occurrence of {expression} and \n",
    "                                    # replaces expression by its value\n",
    "print(message)"
   ]
  },
  {
   "cell_type": "markdown",
   "id": "cd28345d",
   "metadata": {},
   "source": [
    "<br>By specifying the format with `{expression:format}` you can control the format.<br>\n",
    "`{expression:.2f}` $\\leadsto$ `expression` is replaced by its value as a float with 2 decimal places:\n"
   ]
  },
  {
   "cell_type": "code",
   "execution_count": 58,
   "id": "f2f09353",
   "metadata": {},
   "outputs": [
    {
     "name": "stdout",
     "output_type": "stream",
     "text": [
      "Amount due: 123.46 €\n"
     ]
    }
   ],
   "source": [
    "print(f\"Amount due: {amount:.2f} €\")"
   ]
  },
  {
   "cell_type": "markdown",
   "id": "912e400e",
   "metadata": {},
   "source": [
    "<br>`{expression:8.2f}` $\\leadsto$ `expression` is replaced by its value as an 8 characters float number\n",
    "with 2 decimal places:"
   ]
  },
  {
   "cell_type": "code",
   "execution_count": 59,
   "id": "ce92a18b",
   "metadata": {},
   "outputs": [
    {
     "name": "stdout",
     "output_type": "stream",
     "text": [
      "Amount due:   123.46 €\n"
     ]
    }
   ],
   "source": [
    "print(f\"Amount due: {amount:8.2f} €\")"
   ]
  },
  {
   "cell_type": "markdown",
   "id": "ff0adc64",
   "metadata": {},
   "source": [
    "<br>`{expression:08.2f}` $\\leadsto$ `expression` is replaced by its value as an 8 characters float\n",
    "with 2 decimal places and left padded with 0s."
   ]
  },
  {
   "cell_type": "code",
   "execution_count": 60,
   "id": "ce80827f",
   "metadata": {},
   "outputs": [
    {
     "name": "stdout",
     "output_type": "stream",
     "text": [
      "Amount due: {amount:08.2f} €\n"
     ]
    }
   ],
   "source": [
    "print(\"Amount due: {amount:08.2f} €\")"
   ]
  }
 ],
 "metadata": {
  "kernelspec": {
   "display_name": "Python 3 (ipykernel)",
   "language": "python",
   "name": "python3"
  },
  "language_info": {
   "codemirror_mode": {
    "name": "ipython",
    "version": 3
   },
   "file_extension": ".py",
   "mimetype": "text/x-python",
   "name": "python",
   "nbconvert_exporter": "python",
   "pygments_lexer": "ipython3",
   "version": "3.12.3"
  }
 },
 "nbformat": 4,
 "nbformat_minor": 5
}
