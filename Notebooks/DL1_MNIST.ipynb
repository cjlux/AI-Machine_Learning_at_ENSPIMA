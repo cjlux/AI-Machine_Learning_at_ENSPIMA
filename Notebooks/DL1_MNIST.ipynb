{
 "cells": [
  {
   "cell_type": "markdown",
   "metadata": {},
   "source": [
    "<span style=\"font-size:10pt\">AI-ML @ ENSPIMA / v1.5 september 2025 / Jean-Luc CHARLES (Jean-Luc.charles@mailo.com) / CC BY-SA 4.0 /</span>"
   ]
  },
  {
   "cell_type": "markdown",
   "metadata": {},
   "source": [
    "<div style=\"color:brown;font-family:arial;font-size:26pt;font-weight:bold;text-align:center\"> \n",
    "Deep learning with Python tensorflow2/keras modules</div><br>\n",
    "<hr>\n",
    "<div style=\"color:blue;font-family:arial;font-size:22pt;font-weight:bold;text-align:center\"> \n",
    "Training a Dense Neural Network to classify handwritten digits<br><br>\n",
    "Load the MNIST database</div>\n",
    "<hr>"
   ]
  },
  {
   "cell_type": "markdown",
   "metadata": {},
   "source": [
    "<div class=\"alert alert-block alert-danger\">\n",
    "<span style=\"color:brown;font-family:arial;font-size:12pt\">  \n",
    "\n",
    "It is important to use a <span style=\"font-weight:bold;\">Python Virtual Environment</span> (PVE) to ensure versions of the Python interpreter and Python modules (like tensorflow, numpy...).\n",
    "\n",
    "To do so, notebooks from this GitHub repository must be loaded with the command `uv run jupyter lab` or `uv run jupyter notebook`.\n",
    "</span></div>\n",
    "\n",
    "Load the notebooks in this order:\n",
    "- `DL1_MNIST.ipynb`: check that the PVE is fully operationnal, load and use the data from the MNIST database (images and labels).\n",
    "- `DL2_DNN_part1.ipynb`: build a Dense Neural Network (DNN), train it with data from the MNIST and evaluate its performance.\n",
    "- `DL2_DNN_part2.ipynb`: reload a previously trained DNN and evaluate its performance with the MNIST test data."
   ]
  },
  {
   "cell_type": "markdown",
   "metadata": {},
   "source": [
    "## Targeted learning objectives\n",
    "Know how to:\n",
    "- launch a notebook in a dedicated Python Virtual Environment\n",
    "- load data from the MNIST bank (images and labels)\n",
    "- view MNIST images and check the associated label.\n",
    "\n",
    "Expected duration : 20 minutes<br>"
   ]
  },
  {
   "cell_type": "markdown",
   "metadata": {},
   "source": [
    "## 1 - Verify importing Python modules\n",
    "The **keras** module which allows high-level manipulation of **tensorflow** objects is integrated in the **tensorflow** (tf) module since version 2. <br>\n",
    "The **tf.keras** module documentation to consult is here: https://www.tensorflow.org/api_docs/python/tf/keras.\n",
    "\n",
    "Importing the `tensorflow` module in the cell below may generate some warning messages...<br>\n",
    "if errors appear they must be corrected, possibly by recreating your <b><span style=\"color: rgb(200, 51, 102);\">pyml</span> PVE</b>:"
   ]
  },
  {
   "cell_type": "code",
   "execution_count": null,
   "metadata": {},
   "outputs": [],
   "source": [
    "import os, sys\n",
    "\n",
    "# Delete the (numerous) warning messages from the **tensorflow** module:\n",
    "os.environ['TF_CPP_MIN_LOG_LEVEL'] = '3'\n",
    "\n",
    "import tensorflow as tf\n",
    "from tensorflow import keras\n",
    "import numpy as np\n",
    "import matplotlib.pyplot as plt\n",
    "\n",
    "print(f\"Python    : {sys.version.split()[0]}\")\n",
    "print(f\"tensorflow: {tf.__version__} incluant keras {keras.__version__}\")\n",
    "print(f\"numpy     : {np.__version__}\")"
   ]
  },
  {
   "cell_type": "markdown",
   "metadata": {},
   "source": [
    "Embedding matplotlib plots in the notebook:"
   ]
  },
  {
   "cell_type": "code",
   "execution_count": null,
   "metadata": {
    "scrolled": true,
    "tags": []
   },
   "outputs": [],
   "source": [
    "%matplotlib inline"
   ]
  },
  {
   "cell_type": "markdown",
   "metadata": {},
   "source": [
    "## 2 - Load the MNIST data (images and labels)"
   ]
  },
  {
   "cell_type": "markdown",
   "metadata": {},
   "source": [
    "### ▸ The MNIST images bank\n",
    "\n",
    "In this practical work we use labeled images from the MNIST bank available on the Internet (https://github.com/cvdfoundation/mnist).\n",
    "\n",
    "The MNIST database contains 70,000 grayscale images of 28 $\\times$ 28 pixels, representing handwritten digits: each image is a 28$\\times$28 matrix of 784 `uint8` numbers (positive integers on 8 bits, coding a value in the interval [0, 255]).<br>\n",
    "The 70,000 MNIST images are grouped in a set of **60,000 training images** and a set of **10,000 test images**.\n",
    "\n",
    "<div class=\"alert alert-block alert-danger\">\n",
    "The evaluation of the performance of a trained network must always be done with a data set different from the training set: this is why the MNIST bank offers 10,000 test images <b>different</b> from the 60,000 workout pictures.\n",
    "</div>\n",
    "<br>Example of MNIST images:\n",
    "<p style=\"text-align:center; font-style:italic; font-size:12px;\">\n",
    "<img src=\"img/MNIST_digits_sample.png\" width=\"500\"><br>\n",
    "[image: JLC]\n",
    "</p>"
   ]
  },
  {
   "cell_type": "markdown",
   "metadata": {},
   "source": [
    "Consult the documentation of the `load_data` function (see the example on the page \n",
    "[tf.keras.datasets.mnist.load_data](https://www.tensorflow.org/api_docs/python/tf/keras/datasets/mnist/load_data) then complete the cell below to load the data from the MNIST by naming the returned data:<br>\n",
    "- `im_train`, `lab_train`: the training images and labels,\n",
    "- `im_test`, `lab_test`: the test images and labels.\n",
    "\n",
    "(In case of _\"SSL error....\"_ type error message to download MNIST data, see [Python SSL Certification Problems in Tensorflow](https://stackoverflow.com/questions/46858630/python -ssl-certification-problems-in-tensorflow))"
   ]
  },
  {
   "cell_type": "code",
   "execution_count": null,
   "metadata": {},
   "outputs": [],
   "source": []
  },
  {
   "cell_type": "markdown",
   "metadata": {},
   "source": [
    "The cell below displays the `shape` and `dtype` attributes of the resulting numpy arrays: are the values consistent? "
   ]
  },
  {
   "cell_type": "code",
   "execution_count": null,
   "metadata": {},
   "outputs": [],
   "source": [
    "print(\"im_train.shape :\", im_train.shape, \", dtype:\", im_train.dtype,)\n",
    "print(\"lab_train.shape:\", lab_train.shape,  \", dtype:\", lab_train.dtype)\n",
    "print(\"im_test.shape  :\", im_test.shape,  \", dtype:\", im_test.dtype,)\n",
    "print(\"lab_test.shape :\", lab_test.shape,  \", dtype:\", lab_test.dtype)"
   ]
  },
  {
   "cell_type": "markdown",
   "metadata": {},
   "source": [
    "### ▸ Images and labels visualisation:"
   ]
  },
  {
   "cell_type": "markdown",
   "metadata": {},
   "source": [
    "With the `imshow` function of the `matplotlib.pyplot` module, display in gray tone the 600th image of the `im_train` array.<br>\n",
    "Tips:\n",
    "- use `plt.figure(figsize=(2,2))` to set the size of the image,\n",
    "- use the `cmap='gray'` option of the `imshow` function to display the image in gray tone,\n",
    "- remove the ticks in X and Y with `plt.axis('off');`)."
   ]
  },
  {
   "cell_type": "code",
   "execution_count": null,
   "metadata": {},
   "outputs": [],
   "source": []
  },
  {
   "cell_type": "markdown",
   "metadata": {},
   "source": [
    "Check that the associated label in the `im_train` table corresponds to what we see on the image...."
   ]
  },
  {
   "cell_type": "code",
   "execution_count": null,
   "metadata": {},
   "outputs": [],
   "source": []
  },
  {
   "cell_type": "markdown",
   "metadata": {},
   "source": [
    "Import the `plot_images` function from the module `utils.tools` and display the help on this function:"
   ]
  },
  {
   "cell_type": "code",
   "execution_count": null,
   "metadata": {},
   "outputs": [],
   "source": []
  },
  {
   "cell_type": "markdown",
   "metadata": {},
   "source": [
    "Using the `plot_images` function, display the training images in a 4 x 6 grid beginning with the 600th image:"
   ]
  },
  {
   "cell_type": "code",
   "execution_count": null,
   "metadata": {},
   "outputs": [],
   "source": []
  },
  {
   "cell_type": "markdown",
   "metadata": {},
   "source": [
    "In the cell below, we sort the images and we display rows of 16 $\\times$ '0', 16 $\\times$ '1'... in black over a white background:"
   ]
  },
  {
   "cell_type": "code",
   "execution_count": null,
   "metadata": {
    "tags": []
   },
   "outputs": [],
   "source": [
    "data = np.ndarray((10*16, 28, 28))\n",
    "for i in range(10):\n",
    "    indexes = np.where(lab_train == i) # array of the ranks of the labels equal to i\n",
    "    i_data = im_train[indexes][:16].tolist()    # array of the 16 associated images\n",
    "    data[i*16:(i+1)*16] = i_data\n",
    "    \n",
    "R, C = 10, 16\n",
    "plot_images(data, R, C, reverse=True)"
   ]
  },
  {
   "cell_type": "markdown",
   "metadata": {
    "slideshow": {
     "slide_type": ""
    },
    "tags": []
   },
   "source": [
    "### Further work:\n",
    "You can now load the `DL2_DNN_part1_en.ipynb` *notebook* to learn how to build a Dense Neural Network and train it to classify MNIST images."
   ]
  }
 ],
 "metadata": {
  "kernelspec": {
   "display_name": "Python 3 (ipykernel)",
   "language": "python",
   "name": "python3"
  },
  "language_info": {
   "codemirror_mode": {
    "name": "ipython",
    "version": 3
   },
   "file_extension": ".py",
   "mimetype": "text/x-python",
   "name": "python",
   "nbconvert_exporter": "python",
   "pygments_lexer": "ipython3",
   "version": "3.12.3"
  }
 },
 "nbformat": 4,
 "nbformat_minor": 4
}
